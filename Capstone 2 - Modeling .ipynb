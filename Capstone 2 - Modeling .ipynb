{
 "cells": [
  {
   "cell_type": "markdown",
   "id": "61f07e81",
   "metadata": {},
   "source": [
    "# Capstone 2 - Modeling \n",
    "**By Janzen Hui**  </br></br>\n",
    "**BrainStation Data Science - January 2022** </br></br>\n",
    "\n",
    "**Project:** Predicting California's Wildfire</br>\n",
    "**Current Notebook:** Capstone 2 - Modeling </br>\n",
    "**Previous Notebook:** Capstone 1 - Data Wrangling</br>\n",
    "\n",
    "This Jupyter notebook will be used to model and predict for the occurrence of large fires within California. The machine learning models will include logistic regression, decision trees, random forests and XGBoost."
   ]
  },
  {
   "cell_type": "markdown",
   "id": "cda9dd19",
   "metadata": {
    "toc": true
   },
   "source": [
    "<h1>Table of Contents<span class=\"tocSkip\"></span></h1>\n",
    "<div class=\"toc\"><ul class=\"toc-item\"><li><span><a href=\"#Capstone-2---Modeling\" data-toc-modified-id=\"Capstone-2---Modeling-1\"><span class=\"toc-item-num\">1&nbsp;&nbsp;</span>Capstone 2 - Modeling</a></span></li><li><span><a href=\"#Import-Relevant-Libraries-and-Dataset\" data-toc-modified-id=\"Import-Relevant-Libraries-and-Dataset-2\"><span class=\"toc-item-num\">2&nbsp;&nbsp;</span>Import Relevant Libraries and Dataset</a></span></li><li><span><a href=\"#Introduction\" data-toc-modified-id=\"Introduction-3\"><span class=\"toc-item-num\">3&nbsp;&nbsp;</span>Introduction</a></span></li><li><span><a href=\"#Modeling-Set-Up\" data-toc-modified-id=\"Modeling-Set-Up-4\"><span class=\"toc-item-num\">4&nbsp;&nbsp;</span>Modeling Set Up</a></span><ul class=\"toc-item\"><li><span><a href=\"#Defining-the-Variables\" data-toc-modified-id=\"Defining-the-Variables-4.1\"><span class=\"toc-item-num\">4.1&nbsp;&nbsp;</span>Defining the Variables</a></span></li><li><span><a href=\"#Train-/-Test-Split\" data-toc-modified-id=\"Train-/-Test-Split-4.2\"><span class=\"toc-item-num\">4.2&nbsp;&nbsp;</span>Train / Test Split</a></span></li><li><span><a href=\"#Functions\" data-toc-modified-id=\"Functions-4.3\"><span class=\"toc-item-num\">4.3&nbsp;&nbsp;</span>Functions</a></span></li><li><span><a href=\"#Modelling-Pipelines:\" data-toc-modified-id=\"Modelling-Pipelines:-4.4\"><span class=\"toc-item-num\">4.4&nbsp;&nbsp;</span>Modelling Pipelines:</a></span><ul class=\"toc-item\"><li><ul class=\"toc-item\"><li><span><a href=\"#SMOTE-NC-Re-sampling:\" data-toc-modified-id=\"SMOTE-NC-Re-sampling:-4.4.0.1\"><span class=\"toc-item-num\">4.4.0.1&nbsp;&nbsp;</span>SMOTE-NC Re-sampling:</a></span></li><li><span><a href=\"#Column-Transformers\" data-toc-modified-id=\"Column-Transformers-4.4.0.2\"><span class=\"toc-item-num\">4.4.0.2&nbsp;&nbsp;</span>Column Transformers</a></span></li></ul></li></ul></li></ul></li><li><span><a href=\"#Modeling\" data-toc-modified-id=\"Modeling-5\"><span class=\"toc-item-num\">5&nbsp;&nbsp;</span>Modeling</a></span><ul class=\"toc-item\"><li><span><a href=\"#Model-1:-Logistic-Regression\" data-toc-modified-id=\"Model-1:-Logistic-Regression-5.1\"><span class=\"toc-item-num\">5.1&nbsp;&nbsp;</span>Model 1: Logistic Regression</a></span></li><li><span><a href=\"#Model-2:-Logistic-Regression-and-PCA\" data-toc-modified-id=\"Model-2:-Logistic-Regression-and-PCA-5.2\"><span class=\"toc-item-num\">5.2&nbsp;&nbsp;</span>Model 2: Logistic Regression and PCA</a></span></li><li><span><a href=\"#Model-3:-Decision-Trees\" data-toc-modified-id=\"Model-3:-Decision-Trees-5.3\"><span class=\"toc-item-num\">5.3&nbsp;&nbsp;</span>Model 3: Decision Trees</a></span></li><li><span><a href=\"#Model-4:-Random-forests\" data-toc-modified-id=\"Model-4:-Random-forests-5.4\"><span class=\"toc-item-num\">5.4&nbsp;&nbsp;</span>Model 4: Random forests</a></span></li><li><span><a href=\"#Model-5:-XGBoost\" data-toc-modified-id=\"Model-5:-XGBoost-5.5\"><span class=\"toc-item-num\">5.5&nbsp;&nbsp;</span>Model 5: XGBoost</a></span></li></ul></li><li><span><a href=\"#Summary\" data-toc-modified-id=\"Summary-6\"><span class=\"toc-item-num\">6&nbsp;&nbsp;</span>Summary</a></span><ul class=\"toc-item\"><li><span><a href=\"#Summary-of-the-best-model\" data-toc-modified-id=\"Summary-of-the-best-model-6.1\"><span class=\"toc-item-num\">6.1&nbsp;&nbsp;</span>Summary of the best model</a></span></li><li><span><a href=\"#Summary-of-Findings\" data-toc-modified-id=\"Summary-of-Findings-6.2\"><span class=\"toc-item-num\">6.2&nbsp;&nbsp;</span>Summary of Findings</a></span></li></ul></li><li><span><a href=\"#Next-Steps\" data-toc-modified-id=\"Next-Steps-7\"><span class=\"toc-item-num\">7&nbsp;&nbsp;</span>Next Steps</a></span></li><li><span><a href=\"#Conclusion\" data-toc-modified-id=\"Conclusion-8\"><span class=\"toc-item-num\">8&nbsp;&nbsp;</span>Conclusion</a></span></li></ul></div>"
   ]
  },
  {
   "cell_type": "markdown",
   "id": "ab23389b",
   "metadata": {},
   "source": [
    "# Import Relevant Libraries and Dataset"
   ]
  },
  {
   "cell_type": "code",
   "execution_count": 217,
   "id": "08b9f306",
   "metadata": {
    "ExecuteTime": {
     "end_time": "2022-04-03T02:41:17.721661Z",
     "start_time": "2022-04-03T02:41:17.697569Z"
    }
   },
   "outputs": [],
   "source": [
    "# Basic libraries\n",
    "import numpy as np\n",
    "import pandas as pd\n",
    "\n",
    "# Scikit Learn Modules\n",
    "from sklearn.pipeline import Pipeline as SKPipeline\n",
    "from sklearn.decomposition import KernelPCA, PCA\n",
    "from sklearn.preprocessing import StandardScaler, OneHotEncoder\n",
    "from sklearn.compose import ColumnTransformer\n",
    "from sklearn.model_selection import GridSearchCV, cross_val_score, RandomizedSearchCV\n",
    "from sklearn.metrics import classification_report\n",
    "from sklearn.metrics import plot_confusion_matrix, confusion_matrix\n",
    "from sklearn.metrics import roc_curve, roc_auc_score\n",
    "from sklearn.metrics import recall_score, precision_score, accuracy_score, f1_score\n",
    "from sklearn.inspection import permutation_importance\n",
    "\n",
    "# Scikit Learn Classifiers\n",
    "from sklearn.linear_model import LogisticRegression\n",
    "from sklearn.tree import DecisionTreeClassifier\n",
    "from sklearn.ensemble import RandomForestClassifier\n",
    "from xgboost import XGBClassifier\n",
    "\n",
    "# Visualization \n",
    "import matplotlib.pyplot as plt\n",
    "import seaborn as sns\n",
    "\n",
    "# Imbalanced Learn\n",
    "from imblearn.pipeline import Pipeline as ILPipeline\n",
    "from imblearn.over_sampling import SMOTENC\n",
    "\n",
    "# SciPy modules\n",
    "from scipy import stats\n",
    "import joblib\n",
    "\n",
    "# Ignore futurewarnings\n",
    "import warnings\n",
    "warnings.filterwarnings('ignore')"
   ]
  },
  {
   "cell_type": "code",
   "execution_count": 218,
   "id": "8be3e62b",
   "metadata": {
    "ExecuteTime": {
     "end_time": "2022-04-03T02:41:19.147449Z",
     "start_time": "2022-04-03T02:41:17.727666Z"
    },
    "scrolled": false
   },
   "outputs": [
    {
     "data": {
      "text/html": [
       "<div>\n",
       "<style scoped>\n",
       "    .dataframe tbody tr th:only-of-type {\n",
       "        vertical-align: middle;\n",
       "    }\n",
       "\n",
       "    .dataframe tbody tr th {\n",
       "        vertical-align: top;\n",
       "    }\n",
       "\n",
       "    .dataframe thead th {\n",
       "        text-align: right;\n",
       "    }\n",
       "</style>\n",
       "<table border=\"1\" class=\"dataframe\">\n",
       "  <thead>\n",
       "    <tr style=\"text-align: right;\">\n",
       "      <th></th>\n",
       "      <th>Stn Id</th>\n",
       "      <th>CIMIS Region</th>\n",
       "      <th>ETo (mm)</th>\n",
       "      <th>Precip (mm)</th>\n",
       "      <th>Sol Rad (W/sq.m)</th>\n",
       "      <th>Avg Vap Pres (kPa)</th>\n",
       "      <th>Avg Air Temp (C)</th>\n",
       "      <th>Dew Point (C)</th>\n",
       "      <th>Avg Wind Speed (m/s)</th>\n",
       "      <th>Avg Soil Temp (C)</th>\n",
       "      <th>...</th>\n",
       "      <th>HmsLatitude</th>\n",
       "      <th>HmsLongitude</th>\n",
       "      <th>FIRE_YEAR</th>\n",
       "      <th>DISCOVERY_DOY</th>\n",
       "      <th>NWCG_CAUSE_CLASSIFICATION</th>\n",
       "      <th>NWCG_GENERAL_CAUSE</th>\n",
       "      <th>FIRE_SIZE</th>\n",
       "      <th>FIRE_SIZE_CLASS</th>\n",
       "      <th>Large Fire</th>\n",
       "      <th>Month</th>\n",
       "    </tr>\n",
       "  </thead>\n",
       "  <tbody>\n",
       "    <tr>\n",
       "      <th>0</th>\n",
       "      <td>43</td>\n",
       "      <td>Northeast Plateau</td>\n",
       "      <td>1.68</td>\n",
       "      <td>0.0</td>\n",
       "      <td>114.0</td>\n",
       "      <td>0.3</td>\n",
       "      <td>1.7</td>\n",
       "      <td>-11.5</td>\n",
       "      <td>2.0</td>\n",
       "      <td>1.3</td>\n",
       "      <td>...</td>\n",
       "      <td>41.063767</td>\n",
       "      <td>-121.45602</td>\n",
       "      <td>1992</td>\n",
       "      <td>18</td>\n",
       "      <td>Human</td>\n",
       "      <td>Missing data/not specified/undetermined</td>\n",
       "      <td>15.00</td>\n",
       "      <td>C</td>\n",
       "      <td>1</td>\n",
       "      <td>1</td>\n",
       "    </tr>\n",
       "    <tr>\n",
       "      <th>1</th>\n",
       "      <td>43</td>\n",
       "      <td>Northeast Plateau</td>\n",
       "      <td>1.28</td>\n",
       "      <td>0.0</td>\n",
       "      <td>116.0</td>\n",
       "      <td>0.3</td>\n",
       "      <td>0.4</td>\n",
       "      <td>-10.3</td>\n",
       "      <td>1.4</td>\n",
       "      <td>1.0</td>\n",
       "      <td>...</td>\n",
       "      <td>41.063767</td>\n",
       "      <td>-121.45602</td>\n",
       "      <td>1992</td>\n",
       "      <td>19</td>\n",
       "      <td>Human</td>\n",
       "      <td>Missing data/not specified/undetermined</td>\n",
       "      <td>0.10</td>\n",
       "      <td>A</td>\n",
       "      <td>0</td>\n",
       "      <td>1</td>\n",
       "    </tr>\n",
       "    <tr>\n",
       "      <th>2</th>\n",
       "      <td>43</td>\n",
       "      <td>Northeast Plateau</td>\n",
       "      <td>1.28</td>\n",
       "      <td>0.0</td>\n",
       "      <td>116.0</td>\n",
       "      <td>0.3</td>\n",
       "      <td>0.4</td>\n",
       "      <td>-10.3</td>\n",
       "      <td>1.4</td>\n",
       "      <td>1.0</td>\n",
       "      <td>...</td>\n",
       "      <td>41.063767</td>\n",
       "      <td>-121.45602</td>\n",
       "      <td>1992</td>\n",
       "      <td>19</td>\n",
       "      <td>Human</td>\n",
       "      <td>Debris and open burning</td>\n",
       "      <td>0.10</td>\n",
       "      <td>A</td>\n",
       "      <td>0</td>\n",
       "      <td>1</td>\n",
       "    </tr>\n",
       "    <tr>\n",
       "      <th>3</th>\n",
       "      <td>43</td>\n",
       "      <td>Northeast Plateau</td>\n",
       "      <td>0.92</td>\n",
       "      <td>0.0</td>\n",
       "      <td>78.0</td>\n",
       "      <td>0.4</td>\n",
       "      <td>0.3</td>\n",
       "      <td>-6.4</td>\n",
       "      <td>1.2</td>\n",
       "      <td>0.5</td>\n",
       "      <td>...</td>\n",
       "      <td>41.063767</td>\n",
       "      <td>-121.45602</td>\n",
       "      <td>1992</td>\n",
       "      <td>24</td>\n",
       "      <td>Human</td>\n",
       "      <td>Equipment and vehicle use</td>\n",
       "      <td>0.20</td>\n",
       "      <td>A</td>\n",
       "      <td>0</td>\n",
       "      <td>1</td>\n",
       "    </tr>\n",
       "    <tr>\n",
       "      <th>4</th>\n",
       "      <td>43</td>\n",
       "      <td>Northeast Plateau</td>\n",
       "      <td>0.92</td>\n",
       "      <td>0.0</td>\n",
       "      <td>78.0</td>\n",
       "      <td>0.4</td>\n",
       "      <td>0.3</td>\n",
       "      <td>-6.4</td>\n",
       "      <td>1.2</td>\n",
       "      <td>0.5</td>\n",
       "      <td>...</td>\n",
       "      <td>41.063767</td>\n",
       "      <td>-121.45602</td>\n",
       "      <td>1992</td>\n",
       "      <td>24</td>\n",
       "      <td>Human</td>\n",
       "      <td>Debris and open burning</td>\n",
       "      <td>20.00</td>\n",
       "      <td>C</td>\n",
       "      <td>1</td>\n",
       "      <td>1</td>\n",
       "    </tr>\n",
       "    <tr>\n",
       "      <th>...</th>\n",
       "      <td>...</td>\n",
       "      <td>...</td>\n",
       "      <td>...</td>\n",
       "      <td>...</td>\n",
       "      <td>...</td>\n",
       "      <td>...</td>\n",
       "      <td>...</td>\n",
       "      <td>...</td>\n",
       "      <td>...</td>\n",
       "      <td>...</td>\n",
       "      <td>...</td>\n",
       "      <td>...</td>\n",
       "      <td>...</td>\n",
       "      <td>...</td>\n",
       "      <td>...</td>\n",
       "      <td>...</td>\n",
       "      <td>...</td>\n",
       "      <td>...</td>\n",
       "      <td>...</td>\n",
       "      <td>...</td>\n",
       "      <td>...</td>\n",
       "    </tr>\n",
       "    <tr>\n",
       "      <th>234412</th>\n",
       "      <td>41</td>\n",
       "      <td>Imperial/Coachella Valley</td>\n",
       "      <td>1.67</td>\n",
       "      <td>0.0</td>\n",
       "      <td>130.0</td>\n",
       "      <td>1.0</td>\n",
       "      <td>12.2</td>\n",
       "      <td>7.1</td>\n",
       "      <td>0.9</td>\n",
       "      <td>6.3</td>\n",
       "      <td>...</td>\n",
       "      <td>33.042986</td>\n",
       "      <td>-115.41585</td>\n",
       "      <td>2018</td>\n",
       "      <td>354</td>\n",
       "      <td>Human</td>\n",
       "      <td>Arson/incendiarism</td>\n",
       "      <td>0.10</td>\n",
       "      <td>A</td>\n",
       "      <td>0</td>\n",
       "      <td>12</td>\n",
       "    </tr>\n",
       "    <tr>\n",
       "      <th>234413</th>\n",
       "      <td>41</td>\n",
       "      <td>Imperial/Coachella Valley</td>\n",
       "      <td>2.23</td>\n",
       "      <td>0.0</td>\n",
       "      <td>137.0</td>\n",
       "      <td>0.8</td>\n",
       "      <td>11.2</td>\n",
       "      <td>2.9</td>\n",
       "      <td>1.5</td>\n",
       "      <td>5.9</td>\n",
       "      <td>...</td>\n",
       "      <td>33.042986</td>\n",
       "      <td>-115.41585</td>\n",
       "      <td>2018</td>\n",
       "      <td>360</td>\n",
       "      <td>Missing data/not specified/undetermined</td>\n",
       "      <td>Missing data/not specified/undetermined</td>\n",
       "      <td>0.02</td>\n",
       "      <td>A</td>\n",
       "      <td>0</td>\n",
       "      <td>12</td>\n",
       "    </tr>\n",
       "    <tr>\n",
       "      <th>234414</th>\n",
       "      <td>41</td>\n",
       "      <td>Imperial/Coachella Valley</td>\n",
       "      <td>2.32</td>\n",
       "      <td>0.0</td>\n",
       "      <td>134.0</td>\n",
       "      <td>0.7</td>\n",
       "      <td>11.1</td>\n",
       "      <td>1.9</td>\n",
       "      <td>1.9</td>\n",
       "      <td>5.6</td>\n",
       "      <td>...</td>\n",
       "      <td>33.042986</td>\n",
       "      <td>-115.41585</td>\n",
       "      <td>2018</td>\n",
       "      <td>361</td>\n",
       "      <td>Human</td>\n",
       "      <td>Arson/incendiarism</td>\n",
       "      <td>1.00</td>\n",
       "      <td>B</td>\n",
       "      <td>0</td>\n",
       "      <td>12</td>\n",
       "    </tr>\n",
       "    <tr>\n",
       "      <th>234415</th>\n",
       "      <td>41</td>\n",
       "      <td>Imperial/Coachella Valley</td>\n",
       "      <td>2.41</td>\n",
       "      <td>0.0</td>\n",
       "      <td>152.0</td>\n",
       "      <td>0.4</td>\n",
       "      <td>8.5</td>\n",
       "      <td>-6.8</td>\n",
       "      <td>2.3</td>\n",
       "      <td>4.3</td>\n",
       "      <td>...</td>\n",
       "      <td>33.042986</td>\n",
       "      <td>-115.41585</td>\n",
       "      <td>2018</td>\n",
       "      <td>363</td>\n",
       "      <td>Human</td>\n",
       "      <td>Missing data/not specified/undetermined</td>\n",
       "      <td>1.00</td>\n",
       "      <td>B</td>\n",
       "      <td>0</td>\n",
       "      <td>12</td>\n",
       "    </tr>\n",
       "    <tr>\n",
       "      <th>234416</th>\n",
       "      <td>41</td>\n",
       "      <td>Imperial/Coachella Valley</td>\n",
       "      <td>1.94</td>\n",
       "      <td>0.0</td>\n",
       "      <td>150.0</td>\n",
       "      <td>0.5</td>\n",
       "      <td>7.7</td>\n",
       "      <td>-3.1</td>\n",
       "      <td>1.5</td>\n",
       "      <td>4.0</td>\n",
       "      <td>...</td>\n",
       "      <td>33.042986</td>\n",
       "      <td>-115.41585</td>\n",
       "      <td>2018</td>\n",
       "      <td>364</td>\n",
       "      <td>Human</td>\n",
       "      <td>Arson/incendiarism</td>\n",
       "      <td>0.10</td>\n",
       "      <td>A</td>\n",
       "      <td>0</td>\n",
       "      <td>12</td>\n",
       "    </tr>\n",
       "  </tbody>\n",
       "</table>\n",
       "<p>234417 rows × 21 columns</p>\n",
       "</div>"
      ],
      "text/plain": [
       "        Stn Id               CIMIS Region  ETo (mm)  Precip (mm)  \\\n",
       "0           43          Northeast Plateau      1.68          0.0   \n",
       "1           43          Northeast Plateau      1.28          0.0   \n",
       "2           43          Northeast Plateau      1.28          0.0   \n",
       "3           43          Northeast Plateau      0.92          0.0   \n",
       "4           43          Northeast Plateau      0.92          0.0   \n",
       "...        ...                        ...       ...          ...   \n",
       "234412      41  Imperial/Coachella Valley      1.67          0.0   \n",
       "234413      41  Imperial/Coachella Valley      2.23          0.0   \n",
       "234414      41  Imperial/Coachella Valley      2.32          0.0   \n",
       "234415      41  Imperial/Coachella Valley      2.41          0.0   \n",
       "234416      41  Imperial/Coachella Valley      1.94          0.0   \n",
       "\n",
       "        Sol Rad (W/sq.m)  Avg Vap Pres (kPa)  Avg Air Temp (C)  Dew Point (C)  \\\n",
       "0                  114.0                 0.3               1.7          -11.5   \n",
       "1                  116.0                 0.3               0.4          -10.3   \n",
       "2                  116.0                 0.3               0.4          -10.3   \n",
       "3                   78.0                 0.4               0.3           -6.4   \n",
       "4                   78.0                 0.4               0.3           -6.4   \n",
       "...                  ...                 ...               ...            ...   \n",
       "234412             130.0                 1.0              12.2            7.1   \n",
       "234413             137.0                 0.8              11.2            2.9   \n",
       "234414             134.0                 0.7              11.1            1.9   \n",
       "234415             152.0                 0.4               8.5           -6.8   \n",
       "234416             150.0                 0.5               7.7           -3.1   \n",
       "\n",
       "        Avg Wind Speed (m/s)  Avg Soil Temp (C)  ...  HmsLatitude  \\\n",
       "0                        2.0                1.3  ...    41.063767   \n",
       "1                        1.4                1.0  ...    41.063767   \n",
       "2                        1.4                1.0  ...    41.063767   \n",
       "3                        1.2                0.5  ...    41.063767   \n",
       "4                        1.2                0.5  ...    41.063767   \n",
       "...                      ...                ...  ...          ...   \n",
       "234412                   0.9                6.3  ...    33.042986   \n",
       "234413                   1.5                5.9  ...    33.042986   \n",
       "234414                   1.9                5.6  ...    33.042986   \n",
       "234415                   2.3                4.3  ...    33.042986   \n",
       "234416                   1.5                4.0  ...    33.042986   \n",
       "\n",
       "        HmsLongitude  FIRE_YEAR  DISCOVERY_DOY  \\\n",
       "0         -121.45602       1992             18   \n",
       "1         -121.45602       1992             19   \n",
       "2         -121.45602       1992             19   \n",
       "3         -121.45602       1992             24   \n",
       "4         -121.45602       1992             24   \n",
       "...              ...        ...            ...   \n",
       "234412    -115.41585       2018            354   \n",
       "234413    -115.41585       2018            360   \n",
       "234414    -115.41585       2018            361   \n",
       "234415    -115.41585       2018            363   \n",
       "234416    -115.41585       2018            364   \n",
       "\n",
       "                      NWCG_CAUSE_CLASSIFICATION  \\\n",
       "0                                         Human   \n",
       "1                                         Human   \n",
       "2                                         Human   \n",
       "3                                         Human   \n",
       "4                                         Human   \n",
       "...                                         ...   \n",
       "234412                                    Human   \n",
       "234413  Missing data/not specified/undetermined   \n",
       "234414                                    Human   \n",
       "234415                                    Human   \n",
       "234416                                    Human   \n",
       "\n",
       "                             NWCG_GENERAL_CAUSE FIRE_SIZE  FIRE_SIZE_CLASS  \\\n",
       "0       Missing data/not specified/undetermined     15.00                C   \n",
       "1       Missing data/not specified/undetermined      0.10                A   \n",
       "2                       Debris and open burning      0.10                A   \n",
       "3                     Equipment and vehicle use      0.20                A   \n",
       "4                       Debris and open burning     20.00                C   \n",
       "...                                         ...       ...              ...   \n",
       "234412                       Arson/incendiarism      0.10                A   \n",
       "234413  Missing data/not specified/undetermined      0.02                A   \n",
       "234414                       Arson/incendiarism      1.00                B   \n",
       "234415  Missing data/not specified/undetermined      1.00                B   \n",
       "234416                       Arson/incendiarism      0.10                A   \n",
       "\n",
       "       Large Fire  Month  \n",
       "0               1      1  \n",
       "1               0      1  \n",
       "2               0      1  \n",
       "3               0      1  \n",
       "4               1      1  \n",
       "...           ...    ...  \n",
       "234412          0     12  \n",
       "234413          0     12  \n",
       "234414          0     12  \n",
       "234415          0     12  \n",
       "234416          0     12  \n",
       "\n",
       "[234417 rows x 21 columns]"
      ]
     },
     "execution_count": 218,
     "metadata": {},
     "output_type": "execute_result"
    }
   ],
   "source": [
    "df_clean = pd.read_csv('Dataset/df_clean.csv', index_col=0)\n",
    "df_clean"
   ]
  },
  {
   "cell_type": "markdown",
   "id": "df81853a",
   "metadata": {},
   "source": [
    "As we recall, there are 234417 rows and 21 columns in the clean data set."
   ]
  },
  {
   "cell_type": "markdown",
   "id": "8e2109ca",
   "metadata": {},
   "source": [
    "# Introduction\n",
    "The California's Department of Forestry and Fire Protection (CAL FIRE) categorizes fires larger than 10 acres as large fires [Reference](\"https://www.fire.ca.gov/\"). Using the `FIRE_SIZE` feature, fires greater than 10 acres were categorized and stored in the `Large Fire` column. In this dataset, there's about 16 thousand large fires compared to 218 thousand small fires. The large fires make up 5.6% of the dataset."
   ]
  },
  {
   "cell_type": "code",
   "execution_count": 318,
   "id": "b9147202",
   "metadata": {
    "ExecuteTime": {
     "end_time": "2022-04-03T18:55:48.016033Z",
     "start_time": "2022-04-03T18:55:47.744786Z"
    },
    "scrolled": false
   },
   "outputs": [
    {
     "data": {
      "image/png": "[encoded data removed]",
      "text/plain": [
       "<Figure size 720x360 with 1 Axes>"
      ]
     },
     "metadata": {
      "needs_background": "light"
     },
     "output_type": "display_data"
    }
   ],
   "source": [
    "# Show the number of large fires\n",
    "\n",
    "plt.figure(figsize=(10,5))\n",
    "plt.bar(df_clean['Large Fire'].value_counts().index.astype('str'),df_clean['Large Fire'].value_counts())\n",
    "\n",
    "# Bar labels\n",
    "axes = plt.gca()\n",
    "axes.set_axisbelow(True)\n",
    "for i, j in enumerate(df_clean['Large Fire'].value_counts().sort_index()):\n",
    "    axes.text(i-0.15, j + 50, str(round(j/df_clean['Large Fire'].shape[0]*100,2))+'%', color='black')\n",
    "\n",
    "\n",
    "# Set chart and axis titles\n",
    "plt.title('Large Fires Distribution')\n",
    "plt.xlabel('Large Fire Present')\n",
    "plt.ylabel('Count')\n",
    "\n",
    "plt.show()"
   ]
  },
  {
   "cell_type": "markdown",
   "id": "df6e8c12",
   "metadata": {},
   "source": [
    "# Modeling Set Up\n",
    "## Defining the Variables\n",
    "Prior to modeling, the `X` and `y` variables will be defined. the `y` dependent variable is the `Large Fire` column. The independent `X` variable contains all other features columns excluding the `FIRE_SIZE`,`FIRE_SIZE_CLASS`, `Large Fire`. The latter two columns were generated using the `FIRE_SIZE` column and need to be removed from the `X` variable to prevent multicollinearity."
   ]
  },
  {
   "cell_type": "code",
   "execution_count": 221,
   "id": "3114ffa7",
   "metadata": {
    "ExecuteTime": {
     "end_time": "2022-04-03T02:41:19.560163Z",
     "start_time": "2022-04-03T02:41:19.499108Z"
    }
   },
   "outputs": [],
   "source": [
    "# X and y variables\n",
    "X_org = df_clean.drop(columns=['FIRE_SIZE','FIRE_SIZE_CLASS', 'Large Fire'])\n",
    "y_large_fire_org = df_clean['Large Fire']"
   ]
  },
  {
   "cell_type": "code",
   "execution_count": 222,
   "id": "4fea2f18",
   "metadata": {
    "ExecuteTime": {
     "end_time": "2022-04-03T02:41:19.576178Z",
     "start_time": "2022-04-03T02:41:19.566169Z"
    },
    "scrolled": true
   },
   "outputs": [
    {
     "name": "stdout",
     "output_type": "stream",
     "text": [
      "The X variable has 234417 rows and 18 columns\n",
      "The y variable has 234417 rows\n"
     ]
    }
   ],
   "source": [
    "# Confirm the shape of the X and y variables\n",
    "print(f\"The X variable has {X_org.shape[0]} rows and {X_org.shape[1]} columns\")\n",
    "print(f\"The y variable has {y_large_fire_org.shape[0]} rows\")"
   ]
  },
  {
   "cell_type": "markdown",
   "id": "16024c4b",
   "metadata": {},
   "source": [
    "## Train / Test Split\n",
    "With the `X` and `y` variables defined, the train / test split will be performed. The test set will contain 20 % of the dataset. "
   ]
  },
  {
   "cell_type": "code",
   "execution_count": 223,
   "id": "93e3994d",
   "metadata": {
    "ExecuteTime": {
     "end_time": "2022-04-03T02:41:19.941511Z",
     "start_time": "2022-04-03T02:41:19.583184Z"
    }
   },
   "outputs": [],
   "source": [
    "# train and test split \n",
    "# 20% test set\n",
    "from sklearn.model_selection import train_test_split\n",
    "(X_train, X_test, y_train, y_test) = train_test_split(X_org, y_large_fire_org, \n",
    "        test_size=0.2, stratify=y_large_fire_org,  random_state=1)\n",
    "\n",
    "#Reset indices\n",
    "X_train = X_train.reset_index(drop=True)\n",
    "y_train = y_train.reset_index(drop=True)\n",
    "X_test = X_test.reset_index(drop=True)\n",
    "y_test = y_test.reset_index(drop=True)"
   ]
  },
  {
   "cell_type": "code",
   "execution_count": 224,
   "id": "2a5c85cb",
   "metadata": {
    "ExecuteTime": {
     "end_time": "2022-04-03T02:41:19.956588Z",
     "start_time": "2022-04-03T02:41:19.945514Z"
    }
   },
   "outputs": [
    {
     "name": "stdout",
     "output_type": "stream",
     "text": [
      "The X_train dataset has 187533 rows and 18 columns\n",
      "The y_train dataset has 187533 rows\n",
      "The X_test dataset has 46884 rows and 18 columns\n",
      "The y_test dataset has 46884 rows\n"
     ]
    }
   ],
   "source": [
    "# Confirm the shape of the train / test datasets\n",
    "print(f\"The X_train dataset has {X_train.shape[0]} rows and {X_train.shape[1]} columns\")\n",
    "print(f\"The y_train dataset has {y_train.shape[0]} rows\")\n",
    "print(f\"The X_test dataset has {X_test.shape[0]} rows and {X_test.shape[1]} columns\")\n",
    "print(f\"The y_test dataset has {y_test.shape[0]} rows\")"
   ]
  },
  {
   "cell_type": "markdown",
   "id": "0d26e5c2",
   "metadata": {},
   "source": [
    "_____\n",
    "## Functions\n",
    "Functions that will be used frequently within the notebook are defined here. "
   ]
  },
  {
   "cell_type": "code",
   "execution_count": 225,
   "id": "17643c1d",
   "metadata": {
    "ExecuteTime": {
     "end_time": "2022-04-03T02:41:19.988076Z",
     "start_time": "2022-04-03T02:41:19.960539Z"
    }
   },
   "outputs": [],
   "source": [
    "### Create Classifcation Reports for Models\n",
    "def class_report(model):\n",
    "    y_pred = model.predict(X_test)\n",
    "    return print(classification_report(y_test, y_pred))"
   ]
  },
  {
   "cell_type": "code",
   "execution_count": 226,
   "id": "4dd446ba",
   "metadata": {
    "ExecuteTime": {
     "end_time": "2022-04-03T02:41:20.020105Z",
     "start_time": "2022-04-03T02:41:20.000087Z"
    }
   },
   "outputs": [],
   "source": [
    "### Create Confusion Matrix for Models\n",
    "def confusion_matrix_generator (model):\n",
    "    probabilities = model.predict_proba(X_test)\n",
    "    # note rounded probabilities\n",
    "    prob_df = pd.DataFrame(np.round(probabilities,4), columns=['probability of being class 0', 'probability of being class 1'])\n",
    "    y_proba = probabilities[:, 1]\n",
    "    # Build the confusion matrix as a dataframe\n",
    "    y_pred = model.predict(X_test)\n",
    "    confusion_df = pd.DataFrame(confusion_matrix(y_test, y_pred), columns=['Predicted 0', 'Predicted 1'])\n",
    "\n",
    "    # Add a column that sums up the actuals\n",
    "    confusion_df['Sum of Actuals'] = confusion_df.sum(axis=1)\n",
    "\n",
    "    # Add a row that sums up the predictions\n",
    "    confusion_df = confusion_df.append(pd.Series(confusion_df.sum(axis=0)), ignore_index=True)\n",
    "\n",
    "    # Fix the indices\n",
    "    confusion_df.index=['Actual 0', 'Actual 1', 'Sum of Predictions'] \n",
    "\n",
    "    # Check\n",
    "    return confusion_df"
   ]
  },
  {
   "cell_type": "code",
   "execution_count": 227,
   "id": "322c4e59",
   "metadata": {
    "ExecuteTime": {
     "end_time": "2022-04-03T02:41:20.051133Z",
     "start_time": "2022-04-03T02:41:20.024109Z"
    }
   },
   "outputs": [],
   "source": [
    "### Create ROC curve and AUC Score for Models\n",
    "def ROC_AUC_score (model):\n",
    "    y_proba = model.predict_proba(X_test)[:,1]\n",
    "    fprs, tprs, thresholds = roc_curve(y_test, y_proba)\n",
    "    roc_auc = roc_auc_score(y_test, y_proba)\n",
    "\n",
    "    plt.figure()\n",
    "    plt.plot(fprs, tprs, color='darkorange',\n",
    "             lw=2, label='AUC = %0.2f' % roc_auc)\n",
    "    plt.plot([0, 1], [0, 1], color='navy', lw=2, linestyle='--')\n",
    "    plt.xlabel('False Positive Rate (FPR)')\n",
    "    plt.ylabel('True Positive Rate (TPR)')\n",
    "    plt.title('ROC Curve for Credit Fraud Prediction')\n",
    "    plt.legend(loc=\"best\")\n",
    "    plt.show()\n",
    "\n",
    "    print(f'Area under curve (AUC):{roc_auc}')\n"
   ]
  },
  {
   "cell_type": "code",
   "execution_count": 228,
   "id": "3b7b91d6",
   "metadata": {
    "ExecuteTime": {
     "end_time": "2022-04-03T02:41:20.083169Z",
     "start_time": "2022-04-03T02:41:20.055137Z"
    }
   },
   "outputs": [],
   "source": [
    "# Feature importance extraction\n",
    "def perm_importance (model):\n",
    "    result = permutation_importance(model, X_test, y_test, n_repeats=100, random_state=0)\n",
    "    # Calculate the average importance per feature\n",
    "    importances = result.importances_mean\n",
    "\n",
    "    # Normalize the importances\n",
    "    normalized_importances = importances / importances.sum()\n",
    "\n",
    "\n",
    "    # Put the variable names and their feature importances into a data frame\n",
    "    permute_importances_df = pd.DataFrame({'Variable': X_train.columns,\n",
    "                                   'Importance': importances,\n",
    "                                   'Normalized Importance': normalized_importances})\n",
    "\n",
    "    permute_importances_df.sort_values(by='Importance', ascending=False, inplace=True, ignore_index=True)\n",
    "              \n",
    "    return permute_importances_df\n"
   ]
  },
  {
   "cell_type": "markdown",
   "id": "bb7210ad",
   "metadata": {},
   "source": [
    "_____\n",
    "## Modelling Pipelines:\n",
    "\n",
    "For efficiency, the models will incorporate the use of pipelines and grid searches. At a baseline each pipeline will consist of the following:\n",
    "- SMOTE-NC analysis: SMOTE-NC is used to re-sample the minority target. SMOTE will oversample the data. As there are about 16 thousand large fires and more than 200 thousand small fires, the imbalance may skew the model predictions towards the more populous class. Re-sampling the target minority class is necessary before proceeding. [SMOTE-NC Documentation](\"https://imbalanced-learn.org/dev/references/generated/imblearn.over_sampling.SMOTENC.html\")\n",
    "- Column transformer - One hot encoding: The non-numeric object columns need to be changed to numeric columns. One hot encoding will be performed on the `CIMIS Region`, `NWCG_CAUSE_CLASSIFICATION` and `NWCG_GENERAL_CAUSE` columns. \t\n",
    "- Column transformer - Scaler: The numeric columns will be scaled using a Standard Scaler. Columns that had been one hot encoded and are not binarzied will not be scaled.\n",
    "\n",
    "The following code will be used to set up the SMOTE-NC analysis and the column transformers within the pipelines. \n",
    "\n",
    "#### SMOTE-NC Re-sampling:\n",
    "As an example, we can see how using SMOTE-NC changes the distribution of our target variable. SMOTE-NC will be done using the pipelines. Re-sampling will only occur on the training dataset. \n",
    "\n",
    "First, we want to specify the column indexes that will be used to transform the categorical columns and to scale the numeric columns. "
   ]
  },
  {
   "cell_type": "code",
   "execution_count": 229,
   "id": "7140cba5",
   "metadata": {
    "ExecuteTime": {
     "end_time": "2022-04-03T02:41:20.099183Z",
     "start_time": "2022-04-03T02:41:20.088173Z"
    }
   },
   "outputs": [
    {
     "name": "stdout",
     "output_type": "stream",
     "text": [
      "The columns that will be One Hot Encoded are ['CIMIS Region', 'NWCG_CAUSE_CLASSIFICATION', 'NWCG_GENERAL_CAUSE'].\n"
     ]
    }
   ],
   "source": [
    "# Column indexes used to transform categorical columns\n",
    "cat_cols = list(X_train.select_dtypes([object]).columns)\n",
    "cat_cols_index = []\n",
    "for i in cat_cols:\n",
    "    col_index = X_train.columns.get_loc(i)\n",
    "    cat_cols_index.append(col_index)\n",
    "    \n",
    "cat_cols_index \n",
    "print(F\"The columns that will be One Hot Encoded are: {cat_cols}.\")"
   ]
  },
  {
   "cell_type": "code",
   "execution_count": 230,
   "id": "5eab963f",
   "metadata": {
    "ExecuteTime": {
     "end_time": "2022-04-03T02:41:20.131213Z",
     "start_time": "2022-04-03T02:41:20.104188Z"
    }
   },
   "outputs": [
    {
     "name": "stdout",
     "output_type": "stream",
     "text": [
      "The columns that will be scaled using Standard Scaler are ['Stn Id', 'ETo (mm)', 'Precip (mm)', 'Sol Rad (W/sq.m)', 'Avg Vap Pres (kPa)', 'Avg Air Temp (C)', 'Dew Point (C)', 'Avg Wind Speed (m/s)', 'Avg Soil Temp (C)', 'Elevation', 'HmsLatitude', 'HmsLongitude', 'FIRE_YEAR', 'DISCOVERY_DOY', 'Month'].\n"
     ]
    }
   ],
   "source": [
    "# Column indexes used to scale numeric columns\n",
    "num_cols = list(X_org.select_dtypes([np.int64,np.float64]).columns)\n",
    "num_cols_index = []\n",
    "for i in num_cols:\n",
    "    col_index = X_train.columns.get_loc(i)\n",
    "    num_cols_index.append(col_index)\n",
    "    \n",
    "num_cols_index\n",
    "print(F\"The columns that will be scaled using Standard Scaler are: {num_cols}.\")"
   ]
  },
  {
   "cell_type": "markdown",
   "id": "134e761b",
   "metadata": {},
   "source": [
    "Using SMOTE-NC() within the pipeline will up-sample our target class. We can compare the class distribution before and after re-sampling:"
   ]
  },
  {
   "cell_type": "code",
   "execution_count": 231,
   "id": "a72132de",
   "metadata": {
    "ExecuteTime": {
     "end_time": "2022-04-03T02:42:13.559116Z",
     "start_time": "2022-04-03T02:41:20.135216Z"
    }
   },
   "outputs": [],
   "source": [
    "# First define SMOTENC() and fit onto our training set\n",
    "sm = SMOTENC(random_state=1, categorical_features=cat_cols_index)\n",
    "X_bal, y_bal = sm.fit_resample(X_train, y_train)"
   ]
  },
  {
   "cell_type": "code",
   "execution_count": 232,
   "id": "ec54c8ea",
   "metadata": {
    "ExecuteTime": {
     "end_time": "2022-04-03T02:42:13.575132Z",
     "start_time": "2022-04-03T02:42:13.563121Z"
    },
    "scrolled": true
   },
   "outputs": [
    {
     "name": "stdout",
     "output_type": "stream",
     "text": [
      "The number of rows in the imbalanced data: 187533\n",
      "Occurrences of the target class in the imbalanced data: 12906\n"
     ]
    }
   ],
   "source": [
    "# Comparing the number of rows in the imbalanced datasets\n",
    "print(F\"The number of rows in the imbalanced data: {X_train.shape[0]}\")\n",
    "print(F\"Occurrences of the target class in the imbalanced data: {y_train.sum()}\")"
   ]
  },
  {
   "cell_type": "code",
   "execution_count": 233,
   "id": "297d6192",
   "metadata": {
    "ExecuteTime": {
     "end_time": "2022-04-03T02:42:13.591147Z",
     "start_time": "2022-04-03T02:42:13.580138Z"
    }
   },
   "outputs": [
    {
     "name": "stdout",
     "output_type": "stream",
     "text": [
      "The number of rows in the balanced data: 349254\n",
      "Occurrences of the target class in the balanced data: 174627\n"
     ]
    }
   ],
   "source": [
    "# Comparing our target variables in the balanced datasets\n",
    "print(F\"The number of rows in the balanced data: {X_bal.shape[0]}\")\n",
    "print(F\"Occurrences of the target class in the balanced data: {y_bal.sum()}\")"
   ]
  },
  {
   "cell_type": "markdown",
   "id": "d10c6df5",
   "metadata": {},
   "source": [
    "We see that SMOTE-NC was able to balance the data so that there are equal amounts of large fires and small fires in the balanced data set. The dataset is also oversampled to almost 350 thousand rows. The original training data set has almost 190 thousand rows. \n",
    "\n",
    "#### Column Transformers\n",
    "Next we will set up the column transformers on the columns according to the above descriptions. These column transformers will be used within our pipelines. "
   ]
  },
  {
   "cell_type": "code",
   "execution_count": 234,
   "id": "cb509b6f",
   "metadata": {
    "ExecuteTime": {
     "end_time": "2022-04-03T02:42:13.623176Z",
     "start_time": "2022-04-03T02:42:13.596152Z"
    }
   },
   "outputs": [],
   "source": [
    "# One hot encoding the categorical columns\n",
    "cat_transformer = SKPipeline(\n",
    "    steps=[('col_transform', OneHotEncoder())])\n",
    "\n",
    "cat_process = ColumnTransformer(transformers=[(\"cat\", cat_transformer, cat_cols_index)], # TRANSFORM NON-NUMERIC COLUMNS\n",
    "    remainder='passthrough'\n",
    ")"
   ]
  },
  {
   "cell_type": "code",
   "execution_count": 235,
   "id": "0229739b",
   "metadata": {
    "ExecuteTime": {
     "end_time": "2022-04-03T02:42:13.639191Z",
     "start_time": "2022-04-03T02:42:13.629181Z"
    }
   },
   "outputs": [],
   "source": [
    "# Standard Scaler on the numeric columns\n",
    "num_transformer = SKPipeline(\n",
    "    steps=[(\"scaler\", StandardScaler())]\n",
    ")\n",
    "num_process = ColumnTransformer(transformers=[(\"num\", num_transformer, num_cols_index)], #SCALE\n",
    "    remainder='passthrough'\n",
    ")   "
   ]
  },
  {
   "cell_type": "markdown",
   "id": "691cd07f",
   "metadata": {},
   "source": [
    "With our pipelines set up, modeling will be more efficient.\n",
    "_____\n",
    "# Modeling\n",
    "The models will look to optimize the F1 score. The F1 score is known as the harmonic mean between precision and recall. This means that the F1 score values the preciseness and the robustness of the model. \n",
    "\n",
    "Recall compares the number of points _correctly classified_ as positive against the number of points the model _claims_ to be in the positive class. \n",
    "\n",
    "$$Recall = \\frac{\\text{number of true positives}}{\\text{number of true positives} + \\text{number of false negatives}} = \\frac{TP}{TP+FN}$$\n",
    "\n",
    "Precision looks at how focused the model is. It determines what proportion of members who are _classified_ as the positive class actually _belong_ to the positive class. \n",
    "\n",
    "$$Precision = \\frac{\\text{number of true positives}}{\\text{number of true positives} + \\text{number of false positives}} = \\frac{TP}{TP+FP}$$\n",
    "\n",
    "                                                *(Equations from BrainStation)*\n",
    "\n",
    "**What does this mean in our business case?**\n",
    "\n",
    "**True Positive / True Negative:** Our model will correctly identify the fires as either large or small - we want large values here. <br>\n",
    "- A large value here is fairly self explanatory. If there is a fire of significance, we want to know of it so that the proper authorities can be notified and resources can be deployed quickly. We want to know that large fires are correctly predicted at a high rate. Likewise, if a fire is small, we want our model to correctly classify fires as such. <br>\n",
    "    \n",
    "**False Negative:** Our model predicts fires as small, when they are in fact large - we want a minuscule value here. The value should be smaller than the False Positive.\n",
    "- If a fire is _predicted not_ to be large, fewer resources may be prepared and deployed. If this fire turns out to be large, then insufficient resources will be available. Inevitably, the large fire would not be contained and will continue to grow. \n",
    "\n",
    "**False Positive:** Our model classifies a fire as large, when it is small - We want a small value here, but it can be larger than the False Negative value. \n",
    "- If a fire is classified as large, more resources will be prepared. As the fire turns out to be small, the fire will be put out quickly due to the excess resources. This may cost additional time and money, but damage can be minimized. During the annual budget, a higher value here may lead to overestimating the projected resources needed as fires will be projected to be worse than it is. Presumably with wildfires, it is better to be overprepared. \n",
    "\n",
    "With a high true positive rate and a low false negative value, we want recall to be maximized. In contrast, precision, which accounts for false positives, does not need to be optimized, but a higher precision would still be used in planning to provide overestimations in annual budgets or for recruiting firefighting personnel. \n",
    "\n",
    "\n",
    "## Model 1: Logistic Regression\n",
    "We can setup a baseline binary classification of the `Large Fire` target variable using logistic regression. This model will predict the probability of the target class occurring.  If the probability reaches a threshold of 0.5 or greater, the model will classify the fire as large. First, we will set up the logistic regression pipeline and fit it to our training data set. This model will optimize for the F1 score.\n",
    "\n",
    "We want to determine the optimal C parameter for this model:\n",
    "- The C value is a measure of the regularization strength. Smaller values indicate stronger regularization.\n",
    "\n",
    "**Note: Fitting the Logistic Regression Pipeline has a run time of about 15 minutes. To save time, the fitted model was pickled and loaded. If the model needs to be refitted to a new dataset, set the `LR_grid_flag` to 0."
   ]
  },
  {
   "cell_type": "code",
   "execution_count": 244,
   "id": "86843ea0",
   "metadata": {
    "ExecuteTime": {
     "end_time": "2022-04-03T03:27:35.458764Z",
     "start_time": "2022-04-03T03:06:24.091476Z"
    }
   },
   "outputs": [],
   "source": [
    "# To load a fitted model set `LR_grid_flag` to 1.\n",
    "# If the model needs to be refitted, set `LR_grid_flag` to 0.\n",
    "\n",
    "LR_f1_grid_flag = 1\n",
    "\n",
    "# Load a fitted model.\n",
    "if LR_f1_grid_flag == 1:\n",
    "    LR_f1_grid = joblib.load(\"LR_f1_grid.pkl\")\n",
    "    \n",
    "    \n",
    "# Refitting the model\n",
    "else:\n",
    "    # Setting up Logistic Regression Pipeline\n",
    "    LR_pipeline = ILPipeline(steps = [['smote', SMOTENC(random_state=1, categorical_features=cat_cols_index)],\n",
    "                                    ['col_transform', cat_process],\n",
    "                                    ['scaler', num_process],\n",
    "                                    ['model', LogisticRegression(random_state=11,\n",
    "                                                                      max_iter=1000)]])\n",
    "    \n",
    "\n",
    "    # Setting up parameters for the Logistic regression\n",
    "    C_range = np.array([.001,.1, 1,10,100,1000]) \n",
    "\n",
    "    param_grid = [{\n",
    "            'model': [LogisticRegression()], \n",
    "            'model__C': C_range        \n",
    "    }]\n",
    "\n",
    "    LR_f1_grid = GridSearchCV(LR_pipeline, param_grid, cv=5, scoring='f1')\n",
    "\n",
    "    # Fit grid onto training set\n",
    "    # 15 min run time\n",
    "    LR_f1_grid.fit(X_train, y_train) \n",
    "    \n",
    "    # Save the fitted logistic regression model as a .pkl file for later access. \n",
    "    joblib.dump(LR_f1_grid, \"LR_f1_grid.pkl\")\n",
    "    "
   ]
  },
  {
   "cell_type": "code",
   "execution_count": 245,
   "id": "5d8adb99",
   "metadata": {
    "ExecuteTime": {
     "end_time": "2022-04-03T03:27:37.718831Z",
     "start_time": "2022-04-03T03:27:37.705813Z"
    }
   },
   "outputs": [
    {
     "data": {
      "text/plain": [
       "{'model': LogisticRegression(), 'model__C': 1.0}"
      ]
     },
     "execution_count": 245,
     "metadata": {},
     "output_type": "execute_result"
    }
   ],
   "source": [
    "# Determine the best parameters from this grid search. \n",
    "LR_best_parameters = LR_f1_grid.best_params_\n",
    "LR_best_parameters"
   ]
  },
  {
   "cell_type": "markdown",
   "id": "92d7617f",
   "metadata": {},
   "source": [
    "The logistic regression model has been fitted to the training data set. We get an optimal model when the regularization parameter (C) is set to 1. This means that regularization penalty is not too high or low. The training data is a reasonable representation of real world data. To see if this is an accurate expectation, we can see how the F1 scores compare between the training and test sets. "
   ]
  },
  {
   "cell_type": "code",
   "execution_count": 246,
   "id": "6f03e12d",
   "metadata": {
    "ExecuteTime": {
     "end_time": "2022-04-03T03:27:40.624599Z",
     "start_time": "2022-04-03T03:27:39.895425Z"
    }
   },
   "outputs": [
    {
     "name": "stdout",
     "output_type": "stream",
     "text": [
      "Train set F1 score: 0.15531552508462151\n",
      "Test set F1 score: 0.1543771842775165\n"
     ]
    }
   ],
   "source": [
    "# Print F1 scores for the train and test set\n",
    "print(F\"Train set F1 score: {LR_f1_grid.score(X_train, y_train)}\") \n",
    "print(F\"Test set F1 score: {LR_f1_grid.score(X_test, y_test)}\") "
   ]
  },
  {
   "cell_type": "markdown",
   "id": "230b9372",
   "metadata": {},
   "source": [
    "We see that the F1 scores in both our training and test sets are fairly close. That means the training set is a good representation of real world data as the test set has been untouched. Unfortunately, the F1 scores are quite low. The F1 score is calculated using the precision and recall scores so the F1 score is never greater than either of those scores. \n",
    "\n",
    "We can produce a classification report and and confusion matrix to confirm how the fires are being classified. "
   ]
  },
  {
   "cell_type": "code",
   "execution_count": 247,
   "id": "b401fe02",
   "metadata": {
    "ExecuteTime": {
     "end_time": "2022-04-03T03:27:42.953727Z",
     "start_time": "2022-04-03T03:27:42.660479Z"
    }
   },
   "outputs": [
    {
     "name": "stdout",
     "output_type": "stream",
     "text": [
      "              precision    recall  f1-score   support\n",
      "\n",
      "           0       0.95      0.58      0.72     43657\n",
      "           1       0.09      0.55      0.15      3227\n",
      "\n",
      "    accuracy                           0.58     46884\n",
      "   macro avg       0.52      0.57      0.44     46884\n",
      "weighted avg       0.89      0.58      0.68     46884\n",
      "\n"
     ]
    }
   ],
   "source": [
    "# Logistic regression model classification report\n",
    "class_report(LR_f1_grid)"
   ]
  },
  {
   "cell_type": "code",
   "execution_count": 248,
   "id": "f7d4a4c4",
   "metadata": {
    "ExecuteTime": {
     "end_time": "2022-04-03T03:27:45.559084Z",
     "start_time": "2022-04-03T03:27:45.168751Z"
    },
    "scrolled": true
   },
   "outputs": [
    {
     "data": {
      "text/html": [
       "<div>\n",
       "<style scoped>\n",
       "    .dataframe tbody tr th:only-of-type {\n",
       "        vertical-align: middle;\n",
       "    }\n",
       "\n",
       "    .dataframe tbody tr th {\n",
       "        vertical-align: top;\n",
       "    }\n",
       "\n",
       "    .dataframe thead th {\n",
       "        text-align: right;\n",
       "    }\n",
       "</style>\n",
       "<table border=\"1\" class=\"dataframe\">\n",
       "  <thead>\n",
       "    <tr style=\"text-align: right;\">\n",
       "      <th></th>\n",
       "      <th>Predicted 0</th>\n",
       "      <th>Predicted 1</th>\n",
       "      <th>Sum of Actuals</th>\n",
       "    </tr>\n",
       "  </thead>\n",
       "  <tbody>\n",
       "    <tr>\n",
       "      <th>Actual 0</th>\n",
       "      <td>25496</td>\n",
       "      <td>18161</td>\n",
       "      <td>43657</td>\n",
       "    </tr>\n",
       "    <tr>\n",
       "      <th>Actual 1</th>\n",
       "      <td>1438</td>\n",
       "      <td>1789</td>\n",
       "      <td>3227</td>\n",
       "    </tr>\n",
       "    <tr>\n",
       "      <th>Sum of Predictions</th>\n",
       "      <td>26934</td>\n",
       "      <td>19950</td>\n",
       "      <td>46884</td>\n",
       "    </tr>\n",
       "  </tbody>\n",
       "</table>\n",
       "</div>"
      ],
      "text/plain": [
       "                    Predicted 0  Predicted 1  Sum of Actuals\n",
       "Actual 0                  25496        18161           43657\n",
       "Actual 1                   1438         1789            3227\n",
       "Sum of Predictions        26934        19950           46884"
      ]
     },
     "execution_count": 248,
     "metadata": {},
     "output_type": "execute_result"
    }
   ],
   "source": [
    "# Produce confusion matrix for the logistic regression model\n",
    "confusion_matrix_generator(LR_f1_grid)"
   ]
  },
  {
   "cell_type": "markdown",
   "id": "68d80e35",
   "metadata": {},
   "source": [
    "The F1 score is being reduced due to a low precision. Almost 42% of small fires (Class 0) are being classified as false positives. The model is having trouble classifying small fires. With recall,  large fires are predicted correctly 55% of the time. The model has a slightly greater chance of predicting large fires than a coin toss. \n",
    "\n",
    "The Receiver operating characteristic (ROC) curve allows us to visually assess the relationship between the true positive rate (TPR) and the false positive rate (FPR) as the model's threshold changes. In an optimal model, at any given threshold, the true positive rate would be maximized and the false positive rate would be minimized. This relationship is scored by looking at the area under the curve (AUC score)."
   ]
  },
  {
   "cell_type": "code",
   "execution_count": 320,
   "id": "b7f13bbb",
   "metadata": {
    "ExecuteTime": {
     "end_time": "2022-04-03T20:12:10.331784Z",
     "start_time": "2022-04-03T20:12:09.729184Z"
    }
   },
   "outputs": [
    {
     "data": {
      "image/png": "[encoded data removed]",
      "text/plain": [
       "<Figure size 432x288 with 1 Axes>"
      ]
     },
     "metadata": {
      "needs_background": "light"
     },
     "output_type": "display_data"
    },
    {
     "name": "stdout",
     "output_type": "stream",
     "text": [
      "Area under curve (AUC):0.6042730212452356\n"
     ]
    }
   ],
   "source": [
    "# ROC and AUC score\n",
    "ROC_AUC_score(LR_f1_grid)"
   ]
  },
  {
   "cell_type": "markdown",
   "id": "6e0ab09b",
   "metadata": {},
   "source": [
    "An AUC score of 0.60 indicates our model is better than random chance at predicting the positive class. There is a 60% chance of our model correctly predicting our positive class (Class 1). For comparison, the best model would have an AUC score of 1 and would be able to correctly categorize all positive and negative classes. \n",
    "\n",
    "For data to be classified into the target class, logistic regression models require that the data point has a probability that exceeds the threshold of 0.5 or 50%. A threshold of 50% is the default standard, This means that a point would have more than 50% chance of occurring. It is possible to decrease the threshold to see if the model is able to classify more large fires. Lowering the threshold would also increase the number of false positives. As an example, we can try a threshold of 0.45 or 45%.\n",
    "\n",
    "First let's look at the probabilities of the test set. Based on the probabilities, the model will assign each point a predicted class at the 0.45 threshold. "
   ]
  },
  {
   "cell_type": "code",
   "execution_count": 249,
   "id": "3fbff670",
   "metadata": {
    "ExecuteTime": {
     "end_time": "2022-04-03T03:27:47.896507Z",
     "start_time": "2022-04-03T03:27:47.725194Z"
    }
   },
   "outputs": [
    {
     "data": {
      "text/plain": [
       "array([0.44781851, 0.54746094, 0.21640102, ..., 0.41423191, 0.37846277,\n",
       "       0.70791889])"
      ]
     },
     "execution_count": 249,
     "metadata": {},
     "output_type": "execute_result"
    }
   ],
   "source": [
    "# Let's gather all the probabilties from our test set. \n",
    "# Reference: BrainStation \n",
    "probabilities = LR_f1_grid.predict_proba(X_test)\n",
    "# note rounded probabilities\n",
    "prob_df = pd.DataFrame(np.round(probabilities,4), columns=['probability of being class 0', 'probability of being class 1'])\n",
    "y_proba = probabilities[:, 1]\n",
    "y_proba"
   ]
  },
  {
   "cell_type": "code",
   "execution_count": 250,
   "id": "05f85fb8",
   "metadata": {
    "ExecuteTime": {
     "end_time": "2022-04-03T03:27:49.931719Z",
     "start_time": "2022-04-03T03:27:49.822906Z"
    },
    "scrolled": false
   },
   "outputs": [
    {
     "name": "stdout",
     "output_type": "stream",
     "text": [
      "Classification report for a threshold of 0.45 \n",
      "\n",
      "              precision    recall  f1-score   support\n",
      "\n",
      "           0       0.95      0.43      0.60     43657\n",
      "           1       0.09      0.72      0.15      3227\n",
      "\n",
      "    accuracy                           0.45     46884\n",
      "   macro avg       0.52      0.58      0.37     46884\n",
      "weighted avg       0.89      0.45      0.57     46884\n",
      "\n"
     ]
    }
   ],
   "source": [
    "# If the probability that a data point belongs to the positive class is greater than 0.45, it gets classified as 1; otherwise, it gets classified as 0\n",
    "# Reference: BrainStation \n",
    "y_pred_45 = np.where(y_proba > 0.45, 1, 0)\n",
    "\n",
    "print('Classification report for a threshold of 0.45 \\n')\n",
    "print(classification_report(y_test, y_pred_45))"
   ]
  },
  {
   "cell_type": "code",
   "execution_count": 251,
   "id": "e18fbcd1",
   "metadata": {
    "ExecuteTime": {
     "end_time": "2022-04-03T03:27:52.050840Z",
     "start_time": "2022-04-03T03:27:52.021795Z"
    }
   },
   "outputs": [
    {
     "data": {
      "text/plain": [
       "27079"
      ]
     },
     "execution_count": 251,
     "metadata": {},
     "output_type": "execute_result"
    }
   ],
   "source": [
    "# Data points predicted to be in the positive class for a logistic regression model with a threshold of 0.45\n",
    "sum(y_pred_45)"
   ]
  },
  {
   "cell_type": "markdown",
   "id": "0f05bf30",
   "metadata": {
    "ExecuteTime": {
     "end_time": "2022-04-02T17:48:24.990887Z",
     "start_time": "2022-04-02T17:48:24.973900Z"
    }
   },
   "source": [
    "There are 27 thousand points predicted to be in the positive class when the threshold is set to 0.45. If the threshold is lowered to 0.45 from 0.5, the precision remains at 0.09, while the recall increased a much greater amount to 0.72. There's a few reasons for this increase in scores:\n",
    "- The lower threshold allows more data points to be correctly and incorrectly classified as large fires. True positives and false positives increase.\n",
    "- Fewer points are classified as small fires. True negatives decrease. \n",
    "- The significant jump in recall score is due to a decrease in false negatives. \n",
    "- Precision doesn't change due to a increase in both true positives and false positives. \n",
    "\n",
    "We can look at the confusion matrix for the threshold of 0.45 to confirm this. "
   ]
  },
  {
   "cell_type": "code",
   "execution_count": 252,
   "id": "8113a7ad",
   "metadata": {
    "ExecuteTime": {
     "end_time": "2022-04-03T03:27:53.879618Z",
     "start_time": "2022-04-03T03:27:53.835590Z"
    }
   },
   "outputs": [
    {
     "data": {
      "text/html": [
       "<div>\n",
       "<style scoped>\n",
       "    .dataframe tbody tr th:only-of-type {\n",
       "        vertical-align: middle;\n",
       "    }\n",
       "\n",
       "    .dataframe tbody tr th {\n",
       "        vertical-align: top;\n",
       "    }\n",
       "\n",
       "    .dataframe thead th {\n",
       "        text-align: right;\n",
       "    }\n",
       "</style>\n",
       "<table border=\"1\" class=\"dataframe\">\n",
       "  <thead>\n",
       "    <tr style=\"text-align: right;\">\n",
       "      <th></th>\n",
       "      <th>Predicted 0</th>\n",
       "      <th>Predicted 1</th>\n",
       "      <th>Sum of Actuals</th>\n",
       "    </tr>\n",
       "  </thead>\n",
       "  <tbody>\n",
       "    <tr>\n",
       "      <th>Actual 0</th>\n",
       "      <td>18896</td>\n",
       "      <td>24761</td>\n",
       "      <td>43657</td>\n",
       "    </tr>\n",
       "    <tr>\n",
       "      <th>Actual 1</th>\n",
       "      <td>909</td>\n",
       "      <td>2318</td>\n",
       "      <td>3227</td>\n",
       "    </tr>\n",
       "    <tr>\n",
       "      <th>Sum of Predictions</th>\n",
       "      <td>19805</td>\n",
       "      <td>27079</td>\n",
       "      <td>46884</td>\n",
       "    </tr>\n",
       "  </tbody>\n",
       "</table>\n",
       "</div>"
      ],
      "text/plain": [
       "                    Predicted 0  Predicted 1  Sum of Actuals\n",
       "Actual 0                  18896        24761           43657\n",
       "Actual 1                    909         2318            3227\n",
       "Sum of Predictions        19805        27079           46884"
      ]
     },
     "execution_count": 252,
     "metadata": {},
     "output_type": "execute_result"
    }
   ],
   "source": [
    "# Confusion matrix for a logistic regression model with a threshold of 0.45\n",
    "# Build the confusion matrix as a dataframe\n",
    "confusion_df = pd.DataFrame(confusion_matrix(y_test, y_pred_45), columns=['Predicted 0', 'Predicted 1'])\n",
    "\n",
    "# Add a column that sums up the actuals\n",
    "confusion_df['Sum of Actuals'] = confusion_df.sum(axis=1)\n",
    "\n",
    "# Add a row that sums up the predictions\n",
    "confusion_df = confusion_df.append(pd.Series(confusion_df.sum(axis=0)), ignore_index=True)\n",
    "\n",
    "# Fix the indices\n",
    "confusion_df.index=['Actual 0', 'Actual 1', 'Sum of Predictions'] \n",
    "\n",
    "# Check\n",
    "confusion_df"
   ]
  },
  {
   "cell_type": "markdown",
   "id": "37cfad01",
   "metadata": {},
   "source": [
    "Indeed we do see a large number of false positives, almost 27 thousand, which leads to the small precision score. There's also a small number of false negatives, which would allow for a greater recall. \n",
    "\n",
    "A greater number of false positives (24761) than true negatives (18896) is concerning. Small fires are being labeled as large more often than they are being labeled as small (False Positive > True Negative). Forest fires that are labeled as false positives, may lead to resources being deployed when it is not necessary. While resources being misused may be costly, at least the small fires will be contained quickly with the additional resources. In contrast, if there were lots of false negatives and recall is low, thinking a fire is small when it is actually large may lead to a larger burn area. \n",
    "\n",
    "If governments want high recall, lowering the threshold may help, but precision may be sacrificed. If governments want to have a higher budget and more available resources when preparing for the wildfire season, the low precision may help. \n",
    "\n",
    "Let's add the model's metrics to a scores dataframe so that we can compare the performance of different models."
   ]
  },
  {
   "cell_type": "code",
   "execution_count": 289,
   "id": "b486108a",
   "metadata": {
    "ExecuteTime": {
     "end_time": "2022-04-03T07:48:09.132744Z",
     "start_time": "2022-04-03T07:48:08.977603Z"
    }
   },
   "outputs": [
    {
     "data": {
      "text/html": [
       "<div>\n",
       "<style scoped>\n",
       "    .dataframe tbody tr th:only-of-type {\n",
       "        vertical-align: middle;\n",
       "    }\n",
       "\n",
       "    .dataframe tbody tr th {\n",
       "        vertical-align: top;\n",
       "    }\n",
       "\n",
       "    .dataframe thead th {\n",
       "        text-align: right;\n",
       "    }\n",
       "</style>\n",
       "<table border=\"1\" class=\"dataframe\">\n",
       "  <thead>\n",
       "    <tr style=\"text-align: right;\">\n",
       "      <th></th>\n",
       "      <th>Classification Model</th>\n",
       "      <th>F1 Score</th>\n",
       "      <th>Recall</th>\n",
       "      <th>Precision</th>\n",
       "      <th>AUC Score</th>\n",
       "    </tr>\n",
       "  </thead>\n",
       "  <tbody>\n",
       "    <tr>\n",
       "      <th>0</th>\n",
       "      <td>Logistic Regression</td>\n",
       "      <td>0.15438</td>\n",
       "      <td>0.55438</td>\n",
       "      <td>0.08967</td>\n",
       "      <td>0.5692</td>\n",
       "    </tr>\n",
       "  </tbody>\n",
       "</table>\n",
       "</div>"
      ],
      "text/plain": [
       "  Classification Model  F1 Score  Recall   Precision  AUC Score\n",
       "0  Logistic Regression   0.15438  0.55438    0.08967     0.5692"
      ]
     },
     "execution_count": 289,
     "metadata": {},
     "output_type": "execute_result"
    }
   ],
   "source": [
    "# Add model's metrics to scores dataframe\n",
    "# Let's gather all the probabilties from our test set. \n",
    "probabilities = LR_f1_grid.predict_proba(X_test)\n",
    "# note rounded probabilities\n",
    "prob_df = pd.DataFrame(np.round(probabilities,4), columns=['probability of being class 0', 'probability of being class 1'])\n",
    "y_proba = probabilities[:, 1]\n",
    "\n",
    "# Calculate the predicted target classification\n",
    "y_pred = np.where(y_proba > 0.5, 1, 0)\n",
    "\n",
    "\n",
    "# data frame to track the model's scores\n",
    "df_scores = pd.DataFrame({\n",
    "                        \"Classification Model\": [\"Logistic Regression\"],\n",
    "                        \"F1 Score\": [round(f1_score(y_test, y_pred), 5)],\n",
    "                        \"Recall \": [round(recall_score(y_test, y_pred),5)],\n",
    "                        \"Precision\": [round(precision_score(y_test, y_pred),5)],\n",
    "                        \"AUC Score\": [round(roc_auc_score(y_test, y_pred),5)]\n",
    "    })\n",
    "                                        \n",
    "df_scores"
   ]
  },
  {
   "cell_type": "markdown",
   "id": "06247ed7",
   "metadata": {},
   "source": [
    "## Model 2: Logistic Regression and PCA\n",
    "Logistic regression is often used as a baseline model. On its own, it was able to detect large fires slightly better than random chance. As there are over 20 features in this dataset, adjusting the dimensionality may improve the model by visualizing the relationship between independent and dependent variables in a different perspective. PCA and the kernel trick are two methods that can be used in combination with our logistic regression model. Additionally, this may reduce the effects of multicollinearity, especially in linear models. Multicollinearity makes it difficult to determine the effects of an independent predictor variable on the dependent response variable. \n",
    "\n",
    "PCA will help reduce multicollinearity and attempt to capture the most significant information in fewer components. This next model will determine the optimal `C` value for the logistic regression model and the optimal number of PCA components.\n",
    "\n",
    "**Note: Fitting the Logistic Regression and PCA Pipeline has a run time of about 1.5 hours. The fitted model was pickled and loaded. If the model needs to be refitted to a new dataset, set the `LR_PCA_f1_grid_flag` to 0.**"
   ]
  },
  {
   "cell_type": "code",
   "execution_count": 256,
   "id": "84fe1cc0",
   "metadata": {
    "ExecuteTime": {
     "end_time": "2022-04-03T05:04:00.735657Z",
     "start_time": "2022-04-03T03:28:03.081765Z"
    }
   },
   "outputs": [],
   "source": [
    "# To load a fitted model set `LR_PCA_grid_flag` to 1.\n",
    "# If the model needs to be refitted, set `LR_PCA_grid_flag` to 0.\n",
    "\n",
    "LR_PCA_f1_grid_flag = 1\n",
    "\n",
    "# Load a fitted model.\n",
    "if LR_PCA_f1_grid_flag == 1:\n",
    "    LR_PCA_f1_grid = joblib.load(\"LR_PCA_f1_grid.pkl\")\n",
    "    \n",
    "# Refitting the model\n",
    "else:\n",
    "\n",
    "    # Set up the logistic regression with PCA \n",
    "    LR_PCA_pipeline = ILPipeline(steps = [['smote', SMOTENC(random_state=1, categorical_features=cat_cols_index)],\n",
    "                                    ['col_transform', cat_process],\n",
    "                                    ['scaler', num_process],\n",
    "                                    ['dim_reducer', PCA()], \n",
    "                                    ['model', LogisticRegression(random_state=11,\n",
    "                                                                      max_iter=1000)]])\n",
    "\n",
    "    # The grid search will optimize through various regularization rates and attempt to perform dimension reduction\n",
    "    C_range = np.array([.001,.1, 1,10,100,1000]) \n",
    "\n",
    "    param_grid = [{\n",
    "            'dim_reducer': [PCA(), KernelPCA()],\n",
    "            'dim_reducer__n_components': [2, 3, 4],\n",
    "            'model': [LogisticRegression()], \n",
    "            'model__C': C_range        \n",
    "    }]\n",
    "\n",
    "    # Perform the grid search with the specified parameters\n",
    "    LR_PCA_f1_grid = GridSearchCV(LR_PCA_pipeline, param_grid, cv=5, scoring='f1')\n",
    "\n",
    "    # Fit logistic regression with PCA model to the training set\n",
    "    LR_PCA_f1_grid.fit(X_train, y_train)  \n",
    "    \n",
    "    # Save the fitted model as a .pkl file for later access. \n",
    "    joblib.dump(LR_PCA_f1_grid, \"LR_PCA_f1_grid.pkl\")"
   ]
  },
  {
   "cell_type": "code",
   "execution_count": 322,
   "id": "c52837d1",
   "metadata": {
    "ExecuteTime": {
     "end_time": "2022-04-03T20:49:32.791769Z",
     "start_time": "2022-04-03T20:49:32.776723Z"
    }
   },
   "outputs": [
    {
     "data": {
      "text/plain": [
       "{'dim_reducer': PCA(n_components=3),\n",
       " 'dim_reducer__n_components': 3,\n",
       " 'model': LogisticRegression(C=0.001),\n",
       " 'model__C': 0.001}"
      ]
     },
     "execution_count": 322,
     "metadata": {},
     "output_type": "execute_result"
    }
   ],
   "source": [
    "# Logistic regression with PCA model's best parameters\n",
    "LR_PCA_f1_grid.best_params_"
   ]
  },
  {
   "cell_type": "markdown",
   "id": "ac4c1db7",
   "metadata": {},
   "source": [
    "The logistic regression model with PCA has been fitted to the training data set. The optimal model has a regularization parameter (C) of 0.001 and has been reduced to 3 components using PCA. A regularization of C = 0.001 is low, indicating that the training data may not be a good representation of real world data. \n",
    "\n",
    "We can confirm this by looking at the F1 scores to compare the train set with the test set. "
   ]
  },
  {
   "cell_type": "code",
   "execution_count": 323,
   "id": "d521e87f",
   "metadata": {
    "ExecuteTime": {
     "end_time": "2022-04-03T21:58:30.293590Z",
     "start_time": "2022-04-03T21:58:29.501566Z"
    }
   },
   "outputs": [
    {
     "name": "stdout",
     "output_type": "stream",
     "text": [
      "Train set F1 score: 0.14491361146228401\n",
      "Test set F1 score: 0.14280895844576363\n"
     ]
    }
   ],
   "source": [
    "# Print F1 scores for the train and test set\n",
    "print(F\"Train set F1 score: {LR_PCA_f1_grid.score(X_train, y_train)}\") \n",
    "print(F\"Test set F1 score: {LR_PCA_f1_grid.score(X_test, y_test)}\") "
   ]
  },
  {
   "cell_type": "markdown",
   "id": "06566291",
   "metadata": {},
   "source": [
    "The F1 scores between the train and test sets are quite similar, indicating that the model is not overfitting the training set. In fact the precision and the recall is likely very similar in both the training and the unseen data from the test set. \n",
    "\n",
    "We can look into the model's metrics in more detail to see how our model is performing."
   ]
  },
  {
   "cell_type": "code",
   "execution_count": 257,
   "id": "822efbe4",
   "metadata": {
    "ExecuteTime": {
     "end_time": "2022-04-03T05:04:03.009418Z",
     "start_time": "2022-04-03T05:04:02.664104Z"
    }
   },
   "outputs": [
    {
     "name": "stdout",
     "output_type": "stream",
     "text": [
      "              precision    recall  f1-score   support\n",
      "\n",
      "           0       0.95      0.44      0.60     43657\n",
      "           1       0.08      0.66      0.14      3227\n",
      "\n",
      "    accuracy                           0.46     46884\n",
      "   macro avg       0.51      0.55      0.37     46884\n",
      "weighted avg       0.89      0.46      0.57     46884\n",
      "\n"
     ]
    }
   ],
   "source": [
    "# Produce classification report for the logistic regression model with PCA\n",
    "class_report(LR_PCA_f1_grid)"
   ]
  },
  {
   "cell_type": "code",
   "execution_count": 258,
   "id": "226158e2",
   "metadata": {
    "ExecuteTime": {
     "end_time": "2022-04-03T05:04:05.368137Z",
     "start_time": "2022-04-03T05:04:05.021319Z"
    },
    "scrolled": true
   },
   "outputs": [
    {
     "data": {
      "text/html": [
       "<div>\n",
       "<style scoped>\n",
       "    .dataframe tbody tr th:only-of-type {\n",
       "        vertical-align: middle;\n",
       "    }\n",
       "\n",
       "    .dataframe tbody tr th {\n",
       "        vertical-align: top;\n",
       "    }\n",
       "\n",
       "    .dataframe thead th {\n",
       "        text-align: right;\n",
       "    }\n",
       "</style>\n",
       "<table border=\"1\" class=\"dataframe\">\n",
       "  <thead>\n",
       "    <tr style=\"text-align: right;\">\n",
       "      <th></th>\n",
       "      <th>Predicted 0</th>\n",
       "      <th>Predicted 1</th>\n",
       "      <th>Sum of Actuals</th>\n",
       "    </tr>\n",
       "  </thead>\n",
       "  <tbody>\n",
       "    <tr>\n",
       "      <th>Actual 0</th>\n",
       "      <td>19353</td>\n",
       "      <td>24304</td>\n",
       "      <td>43657</td>\n",
       "    </tr>\n",
       "    <tr>\n",
       "      <th>Actual 1</th>\n",
       "      <td>1110</td>\n",
       "      <td>2117</td>\n",
       "      <td>3227</td>\n",
       "    </tr>\n",
       "    <tr>\n",
       "      <th>Sum of Predictions</th>\n",
       "      <td>20463</td>\n",
       "      <td>26421</td>\n",
       "      <td>46884</td>\n",
       "    </tr>\n",
       "  </tbody>\n",
       "</table>\n",
       "</div>"
      ],
      "text/plain": [
       "                    Predicted 0  Predicted 1  Sum of Actuals\n",
       "Actual 0                  19353        24304           43657\n",
       "Actual 1                   1110         2117            3227\n",
       "Sum of Predictions        20463        26421           46884"
      ]
     },
     "execution_count": 258,
     "metadata": {},
     "output_type": "execute_result"
    }
   ],
   "source": [
    "# Produce confusion matrix for the logistic regression model with PCA\n",
    "confusion_matrix_generator(LR_PCA_f1_grid)"
   ]
  },
  {
   "cell_type": "markdown",
   "id": "675de911",
   "metadata": {},
   "source": [
    "The classification report and the confusion matrix are similar to what was see in our logistic regression model when the threshold was set to 0.45! Unfortunately, the F1 score is still very low due to the large number of false positives and a low precision score. The recall score is also reasonable with two thirds of large fires correctly being classified. \n",
    "\n",
    "\n",
    "|Model |Recall |Precision | True Negative | True Positive | False Negative | False Positive |\n",
    "|--|--|--|--|--|--|--|\n",
    "|Logistic Regression (0.5 Threshold)|0.09|0.58|25496|1789|1438|18161|\n",
    "|Logistic Regression (0.45 Threshold)|0.09|0.72|18896|2318|909|24761|\n",
    "|Logistic Regression with PCA (0.5 Threshold)|0.08|0.66|19353|2117|1110|24304|"
   ]
  },
  {
   "cell_type": "code",
   "execution_count": 324,
   "id": "d071c25c",
   "metadata": {
    "ExecuteTime": {
     "end_time": "2022-04-03T22:16:32.885031Z",
     "start_time": "2022-04-03T22:16:32.418537Z"
    }
   },
   "outputs": [
    {
     "data": {
      "image/png": "[encoded data removed]",
      "text/plain": [
       "<Figure size 432x288 with 1 Axes>"
      ]
     },
     "metadata": {
      "needs_background": "light"
     },
     "output_type": "display_data"
    },
    {
     "name": "stdout",
     "output_type": "stream",
     "text": [
      "Area under curve (AUC):0.5686269969750883\n"
     ]
    }
   ],
   "source": [
    "# AUC score for the logistic regression model with PCA\n",
    "ROC_AUC_score(LR_PCA_f1_grid)"
   ]
  },
  {
   "cell_type": "markdown",
   "id": "fc97d68b",
   "metadata": {},
   "source": [
    "From this model, we see an AUC score of 0.57. The classifier is able to distinguish large fires at a rate that is slightly better than a coin toss. This is not a very reliable model, but it does perform slightly better than the logistic regression model on its own. If only recall was the main focus, we see that changing the threshold would maximize this value. For example, on the ground firefights would prioritize recall and disregard precision, in order to gather more resources. The excess false positives would be preferred over a big number of large fires hidden as false negatives. \n",
    "\n",
    "We can take a look at the effects of changing thresholds on each of our metrics.  "
   ]
  },
  {
   "cell_type": "code",
   "execution_count": 325,
   "id": "5168dd2f",
   "metadata": {
    "ExecuteTime": {
     "end_time": "2022-04-03T22:25:36.991234Z",
     "start_time": "2022-04-03T22:25:36.766008Z"
    }
   },
   "outputs": [],
   "source": [
    "# Let's gather all the probabilties from our test set. \n",
    "# Reference: BrainStation \n",
    "probabilities = LR_PCA_f1_grid.predict_proba(X_test)\n",
    "# note rounded probabilities\n",
    "prob_df = pd.DataFrame(np.round(probabilities,4), columns=['probability of being class 0', 'probability of being class 1'])\n",
    "y_proba = probabilities[:, 1]\n",
    "y_proba\n",
    "\n",
    "# Calculate the predicted target classification\n",
    "y_pred = np.where(y_proba > 0.5, 1, 0)"
   ]
  },
  {
   "cell_type": "code",
   "execution_count": 326,
   "id": "52b3c47d",
   "metadata": {
    "ExecuteTime": {
     "end_time": "2022-04-03T22:25:43.379535Z",
     "start_time": "2022-04-03T22:25:41.179817Z"
    }
   },
   "outputs": [
    {
     "data": {
      "image/png": "[encoded data removed]",
      "text/plain": [
       "<Figure size 432x288 with 1 Axes>"
      ]
     },
     "metadata": {
      "needs_background": "light"
     },
     "output_type": "display_data"
    }
   ],
   "source": [
    "# Vary thresholds by 0.05 from 0.05 to 0.95\n",
    "thresholds = np.arange(0.05, 1, 0.05)\n",
    "\n",
    "f1_score_list = []\n",
    "precisions = []\n",
    "recalls = []\n",
    "roc_auc_list = []\n",
    "\n",
    "for threshold in thresholds:\n",
    "\n",
    "    # Apply threshold\n",
    "    y_threshold = np.where(y_proba > threshold, 1, 0)\n",
    "    y_threshold = pd.Series(y_threshold)\n",
    "    \n",
    "    # Calculate precision and recall\n",
    "    precision = precision_score(y_test, y_threshold)\n",
    "    recall = recall_score(y_test, y_threshold)\n",
    "    f1_scores = f1_score(y_test, y_threshold)  # f1_scores = ((2*precision*recall) / (recall + precision))\n",
    "    roc_auc = roc_auc_score(y_test, y_threshold)\n",
    "    \n",
    "    # Append to list\n",
    "    precisions.append(precision)\n",
    "    recalls.append(recall)\n",
    "    f1_score_list.append(f1_scores)\n",
    "    roc_auc_list.append(roc_auc)\n",
    "\n",
    "# Visualize the result\n",
    "plt.figure()\n",
    "plt.plot(thresholds, f1_score_list, label='F1 Scores', marker='o')\n",
    "plt.xlim(0, 1)\n",
    "plt.xlabel('Threshold')\n",
    "plt.ylabel('F1 Score')\n",
    "plt.legend()\n",
    "plt.show()"
   ]
  },
  {
   "cell_type": "code",
   "execution_count": 327,
   "id": "6ef7a475",
   "metadata": {
    "ExecuteTime": {
     "end_time": "2022-04-03T22:25:50.284591Z",
     "start_time": "2022-04-03T22:25:50.238516Z"
    }
   },
   "outputs": [
    {
     "data": {
      "text/html": [
       "<div>\n",
       "<style scoped>\n",
       "    .dataframe tbody tr th:only-of-type {\n",
       "        vertical-align: middle;\n",
       "    }\n",
       "\n",
       "    .dataframe tbody tr th {\n",
       "        vertical-align: top;\n",
       "    }\n",
       "\n",
       "    .dataframe thead th {\n",
       "        text-align: right;\n",
       "    }\n",
       "</style>\n",
       "<table border=\"1\" class=\"dataframe\">\n",
       "  <thead>\n",
       "    <tr style=\"text-align: right;\">\n",
       "      <th></th>\n",
       "      <th>Threshold</th>\n",
       "      <th>F1 Score</th>\n",
       "      <th>Precision</th>\n",
       "      <th>Recall</th>\n",
       "      <th>AUC Score</th>\n",
       "    </tr>\n",
       "  </thead>\n",
       "  <tbody>\n",
       "    <tr>\n",
       "      <th>0</th>\n",
       "      <td>0.05</td>\n",
       "      <td>0.128794</td>\n",
       "      <td>0.068829</td>\n",
       "      <td>1.000000</td>\n",
       "      <td>0.500000</td>\n",
       "    </tr>\n",
       "    <tr>\n",
       "      <th>1</th>\n",
       "      <td>0.10</td>\n",
       "      <td>0.128794</td>\n",
       "      <td>0.068829</td>\n",
       "      <td>1.000000</td>\n",
       "      <td>0.500000</td>\n",
       "    </tr>\n",
       "    <tr>\n",
       "      <th>2</th>\n",
       "      <td>0.15</td>\n",
       "      <td>0.128794</td>\n",
       "      <td>0.068829</td>\n",
       "      <td>1.000000</td>\n",
       "      <td>0.500000</td>\n",
       "    </tr>\n",
       "    <tr>\n",
       "      <th>3</th>\n",
       "      <td>0.20</td>\n",
       "      <td>0.128794</td>\n",
       "      <td>0.068829</td>\n",
       "      <td>1.000000</td>\n",
       "      <td>0.500000</td>\n",
       "    </tr>\n",
       "    <tr>\n",
       "      <th>4</th>\n",
       "      <td>0.25</td>\n",
       "      <td>0.128817</td>\n",
       "      <td>0.068843</td>\n",
       "      <td>1.000000</td>\n",
       "      <td>0.500103</td>\n",
       "    </tr>\n",
       "    <tr>\n",
       "      <th>5</th>\n",
       "      <td>0.30</td>\n",
       "      <td>0.129013</td>\n",
       "      <td>0.068963</td>\n",
       "      <td>0.998141</td>\n",
       "      <td>0.501040</td>\n",
       "    </tr>\n",
       "    <tr>\n",
       "      <th>6</th>\n",
       "      <td>0.35</td>\n",
       "      <td>0.130495</td>\n",
       "      <td>0.069843</td>\n",
       "      <td>0.991633</td>\n",
       "      <td>0.507728</td>\n",
       "    </tr>\n",
       "    <tr>\n",
       "      <th>7</th>\n",
       "      <td>0.40</td>\n",
       "      <td>0.132946</td>\n",
       "      <td>0.071514</td>\n",
       "      <td>0.942981</td>\n",
       "      <td>0.519009</td>\n",
       "    </tr>\n",
       "    <tr>\n",
       "      <th>8</th>\n",
       "      <td>0.45</td>\n",
       "      <td>0.137600</td>\n",
       "      <td>0.074947</td>\n",
       "      <td>0.838860</td>\n",
       "      <td>0.536765</td>\n",
       "    </tr>\n",
       "    <tr>\n",
       "      <th>9</th>\n",
       "      <td>0.50</td>\n",
       "      <td>0.142809</td>\n",
       "      <td>0.080126</td>\n",
       "      <td>0.656027</td>\n",
       "      <td>0.549662</td>\n",
       "    </tr>\n",
       "    <tr>\n",
       "      <th>10</th>\n",
       "      <td>0.55</td>\n",
       "      <td>0.134840</td>\n",
       "      <td>0.094866</td>\n",
       "      <td>0.233034</td>\n",
       "      <td>0.534342</td>\n",
       "    </tr>\n",
       "    <tr>\n",
       "      <th>11</th>\n",
       "      <td>0.60</td>\n",
       "      <td>0.004225</td>\n",
       "      <td>0.080460</td>\n",
       "      <td>0.002169</td>\n",
       "      <td>0.500168</td>\n",
       "    </tr>\n",
       "    <tr>\n",
       "      <th>12</th>\n",
       "      <td>0.65</td>\n",
       "      <td>0.000619</td>\n",
       "      <td>0.333333</td>\n",
       "      <td>0.000310</td>\n",
       "      <td>0.500132</td>\n",
       "    </tr>\n",
       "    <tr>\n",
       "      <th>13</th>\n",
       "      <td>0.70</td>\n",
       "      <td>0.000000</td>\n",
       "      <td>0.000000</td>\n",
       "      <td>0.000000</td>\n",
       "      <td>0.500000</td>\n",
       "    </tr>\n",
       "    <tr>\n",
       "      <th>14</th>\n",
       "      <td>0.75</td>\n",
       "      <td>0.000000</td>\n",
       "      <td>0.000000</td>\n",
       "      <td>0.000000</td>\n",
       "      <td>0.500000</td>\n",
       "    </tr>\n",
       "    <tr>\n",
       "      <th>15</th>\n",
       "      <td>0.80</td>\n",
       "      <td>0.000000</td>\n",
       "      <td>0.000000</td>\n",
       "      <td>0.000000</td>\n",
       "      <td>0.500000</td>\n",
       "    </tr>\n",
       "    <tr>\n",
       "      <th>16</th>\n",
       "      <td>0.85</td>\n",
       "      <td>0.000000</td>\n",
       "      <td>0.000000</td>\n",
       "      <td>0.000000</td>\n",
       "      <td>0.500000</td>\n",
       "    </tr>\n",
       "    <tr>\n",
       "      <th>17</th>\n",
       "      <td>0.90</td>\n",
       "      <td>0.000000</td>\n",
       "      <td>0.000000</td>\n",
       "      <td>0.000000</td>\n",
       "      <td>0.500000</td>\n",
       "    </tr>\n",
       "    <tr>\n",
       "      <th>18</th>\n",
       "      <td>0.95</td>\n",
       "      <td>0.000000</td>\n",
       "      <td>0.000000</td>\n",
       "      <td>0.000000</td>\n",
       "      <td>0.500000</td>\n",
       "    </tr>\n",
       "  </tbody>\n",
       "</table>\n",
       "</div>"
      ],
      "text/plain": [
       "    Threshold  F1 Score  Precision    Recall  AUC Score\n",
       "0        0.05  0.128794   0.068829  1.000000   0.500000\n",
       "1        0.10  0.128794   0.068829  1.000000   0.500000\n",
       "2        0.15  0.128794   0.068829  1.000000   0.500000\n",
       "3        0.20  0.128794   0.068829  1.000000   0.500000\n",
       "4        0.25  0.128817   0.068843  1.000000   0.500103\n",
       "5        0.30  0.129013   0.068963  0.998141   0.501040\n",
       "6        0.35  0.130495   0.069843  0.991633   0.507728\n",
       "7        0.40  0.132946   0.071514  0.942981   0.519009\n",
       "8        0.45  0.137600   0.074947  0.838860   0.536765\n",
       "9        0.50  0.142809   0.080126  0.656027   0.549662\n",
       "10       0.55  0.134840   0.094866  0.233034   0.534342\n",
       "11       0.60  0.004225   0.080460  0.002169   0.500168\n",
       "12       0.65  0.000619   0.333333  0.000310   0.500132\n",
       "13       0.70  0.000000   0.000000  0.000000   0.500000\n",
       "14       0.75  0.000000   0.000000  0.000000   0.500000\n",
       "15       0.80  0.000000   0.000000  0.000000   0.500000\n",
       "16       0.85  0.000000   0.000000  0.000000   0.500000\n",
       "17       0.90  0.000000   0.000000  0.000000   0.500000\n",
       "18       0.95  0.000000   0.000000  0.000000   0.500000"
      ]
     },
     "execution_count": 327,
     "metadata": {},
     "output_type": "execute_result"
    }
   ],
   "source": [
    "# data frame to track the model's scores\n",
    "df_LR_F1_scores = pd.DataFrame({\n",
    "                        \"Threshold\": thresholds,\n",
    "                        \"F1 Score\": f1_score_list,\n",
    "                        \"Precision\": precisions,        \n",
    "                        \"Recall\": recalls,\n",
    "                        \"AUC Score\": roc_auc_list  \n",
    "                        })\n",
    "                                        \n",
    "df_LR_F1_scores"
   ]
  },
  {
   "cell_type": "markdown",
   "id": "d63aa3a0",
   "metadata": {},
   "source": [
    "Although not great, the F1 score is  actually maximized at the current 0.5 threshold. We see that as the threshold is lowered, the recall does improve, but the number of false positives also increase, as we see the precision and AUC scores decrease. On the other hand, if the threshold increases to 0.55, the recall score drops significantly, without much improvement in the precision and AUC scores. \n",
    "\n",
    "We will add the model metrics with the 0.5 threshold to the scores dataframe."
   ]
  },
  {
   "cell_type": "code",
   "execution_count": 291,
   "id": "2c5c57db",
   "metadata": {
    "ExecuteTime": {
     "end_time": "2022-04-03T07:48:27.004873Z",
     "start_time": "2022-04-03T07:48:26.760653Z"
    },
    "scrolled": true
   },
   "outputs": [
    {
     "data": {
      "text/html": [
       "<div>\n",
       "<style scoped>\n",
       "    .dataframe tbody tr th:only-of-type {\n",
       "        vertical-align: middle;\n",
       "    }\n",
       "\n",
       "    .dataframe tbody tr th {\n",
       "        vertical-align: top;\n",
       "    }\n",
       "\n",
       "    .dataframe thead th {\n",
       "        text-align: right;\n",
       "    }\n",
       "</style>\n",
       "<table border=\"1\" class=\"dataframe\">\n",
       "  <thead>\n",
       "    <tr style=\"text-align: right;\">\n",
       "      <th></th>\n",
       "      <th>Classification Model</th>\n",
       "      <th>F1 Score</th>\n",
       "      <th>Recall</th>\n",
       "      <th>Precision</th>\n",
       "      <th>AUC Score</th>\n",
       "    </tr>\n",
       "  </thead>\n",
       "  <tbody>\n",
       "    <tr>\n",
       "      <th>0</th>\n",
       "      <td>Logistic Regression</td>\n",
       "      <td>0.15438</td>\n",
       "      <td>0.55438</td>\n",
       "      <td>0.08967</td>\n",
       "      <td>0.56920</td>\n",
       "    </tr>\n",
       "    <tr>\n",
       "      <th>1</th>\n",
       "      <td>Logistic Regression &amp; PCA</td>\n",
       "      <td>0.14281</td>\n",
       "      <td>0.65603</td>\n",
       "      <td>0.08013</td>\n",
       "      <td>0.54966</td>\n",
       "    </tr>\n",
       "  </tbody>\n",
       "</table>\n",
       "</div>"
      ],
      "text/plain": [
       "        Classification Model  F1 Score  Recall   Precision  AUC Score\n",
       "0        Logistic Regression   0.15438  0.55438    0.08967    0.56920\n",
       "1  Logistic Regression & PCA   0.14281  0.65603    0.08013    0.54966"
      ]
     },
     "execution_count": 291,
     "metadata": {},
     "output_type": "execute_result"
    }
   ],
   "source": [
    "# data frame to track the model's scores\n",
    "df_scores = df_scores.append({\n",
    "                        \"Classification Model\": \"Logistic Regression & PCA\",\n",
    "                        \"F1 Score\": round(f1_score(y_test, y_pred), 5),\n",
    "                        \"Recall \": round(recall_score(y_test, y_pred),5),\n",
    "                        \"Precision\": round(precision_score(y_test, y_pred),5),\n",
    "                        \"AUC Score\": round(roc_auc_score(y_test, y_pred),5)},\n",
    "                        ignore_index = True)\n",
    "                                        \n",
    "df_scores"
   ]
  },
  {
   "cell_type": "markdown",
   "id": "a9df1342",
   "metadata": {},
   "source": [
    "## Model 3: Decision Trees\n",
    "Let's see if decision trees will work better than the logistic regression in this binary classification problem. Decision trees are able to learn non-linear decision boundaries by creating splits on each feature. This allows decision tree classification to have more flexibility than logistic regression. Unfortunately, decision trees tend to overfit, but this can be prevented by optimizing the following hyperparameters:\n",
    "- max_depth: Limits the number of splits or features that the model considers\n",
    "- min_samples_leaf: Minimum requirement for the number of points each leaf must include\n",
    "\n",
    "To prevent overfitting, we can loop through the number of leaves and the max depth level. Let's set up our decision trees pipeline.\n",
    "\n",
    "**Note: Fitting the Logistic Regression and PCA Pipeline has a long run time. The fitted model was pickled and loaded. If the model needs to be refitted to a new dataset, set the `DT_f1_grid_flag` to 0.**"
   ]
  },
  {
   "cell_type": "code",
   "execution_count": 236,
   "id": "6719dbff",
   "metadata": {
    "ExecuteTime": {
     "end_time": "2022-04-03T02:55:51.293364Z",
     "start_time": "2022-04-03T02:42:57.196567Z"
    }
   },
   "outputs": [],
   "source": [
    "# To load a fitted model set `DT_f1_grid_flag` to 1.\n",
    "# If the model needs to be refitted, set `DT_f1_grid_flag` to 0.\n",
    "\n",
    "DT_f1_grid_flag = 1\n",
    "\n",
    "# Load a fitted model.\n",
    "if DT_f1_grid_flag == 1:\n",
    "    DT_f1_grid = joblib.load(\"DT_f1_grid.pkl\")\n",
    "    \n",
    "    \n",
    "# Refitting the model\n",
    "else:\n",
    "    # Decision trees pipeline\n",
    "    DT_pipeline = ILPipeline(steps = [['smote', SMOTENC(random_state=1, categorical_features=cat_cols_index)],\n",
    "                                ['col_transform', cat_process],\n",
    "                                ['scaler', num_process],\n",
    "                                ['model', DecisionTreeClassifier()]])\n",
    "    \n",
    "\n",
    "    # Parameters for the decision trees pipeline\n",
    "    depths = list(range(1, 20, 2))\n",
    "    leaves = list(range(100, 1000, 100))\n",
    "\n",
    "    param_grid = [{\n",
    "            'model': [DecisionTreeClassifier()], \n",
    "            'model__max_depth': depths,\n",
    "            'model__min_samples_leaf': leaves       \n",
    "    }]\n",
    "\n",
    "    DT_f1_grid = GridSearchCV(DT_pipeline, param_grid, cv=3, scoring='f1', n_jobs = -1)\n",
    "\n",
    "    # Fit grid onto training set\n",
    "    # 15 min run time\n",
    "    DT_f1_grid.fit(X_train, y_train) \n",
    "    \n",
    "    # Save the fitted logistic regression model as a .pkl file for later access. \n",
    "    joblib.dump(DT_f1_grid, \"DT_f1_grid.pkl\")"
   ]
  },
  {
   "cell_type": "code",
   "execution_count": 237,
   "id": "b4c763ec",
   "metadata": {
    "ExecuteTime": {
     "end_time": "2022-04-03T02:55:53.878970Z",
     "start_time": "2022-04-03T02:55:53.860878Z"
    }
   },
   "outputs": [
    {
     "data": {
      "text/plain": [
       "{'model': DecisionTreeClassifier(max_depth=7, min_samples_leaf=300),\n",
       " 'model__max_depth': 7,\n",
       " 'model__min_samples_leaf': 300}"
      ]
     },
     "execution_count": 237,
     "metadata": {},
     "output_type": "execute_result"
    }
   ],
   "source": [
    "DT_f1_grid.best_params_"
   ]
  },
  {
   "cell_type": "markdown",
   "id": "90fefc39",
   "metadata": {},
   "source": [
    "Our grid search revealed that the decision trees model has been optimized with a max depth of 7. We will also use a minimum sample leaf of 300 in this model. Since decision trees tend to overfit, let's look at how our F1 score compares between the train and test set. "
   ]
  },
  {
   "cell_type": "code",
   "execution_count": 328,
   "id": "f428e012",
   "metadata": {
    "ExecuteTime": {
     "end_time": "2022-04-03T22:52:17.094263Z",
     "start_time": "2022-04-03T22:52:16.112461Z"
    }
   },
   "outputs": [
    {
     "name": "stdout",
     "output_type": "stream",
     "text": [
      "Train set F1 score: 0.1651875692502506\n",
      "Test set F1 score: 0.16381470001273832\n"
     ]
    }
   ],
   "source": [
    "# Print F1 scores for the train and test set\n",
    "print(F\"Train set F1 score: {DT_f1_grid.score(X_train, y_train)}\") \n",
    "print(F\"Test set F1 score: {DT_f1_grid.score(X_test, y_test)}\") "
   ]
  },
  {
   "cell_type": "markdown",
   "id": "bfd44a32",
   "metadata": {},
   "source": [
    "The F1 scores are similar in the train and test set. The model doesn't seem to be overfitting the training set. Now we can look at the model in detail using our classification report and confusion matrix."
   ]
  },
  {
   "cell_type": "code",
   "execution_count": 332,
   "id": "c20f050d",
   "metadata": {
    "ExecuteTime": {
     "end_time": "2022-04-03T23:03:14.450864Z",
     "start_time": "2022-04-03T23:03:14.136069Z"
    },
    "scrolled": false
   },
   "outputs": [
    {
     "name": "stdout",
     "output_type": "stream",
     "text": [
      "              precision    recall  f1-score   support\n",
      "\n",
      "           0       0.95      0.58      0.72     43657\n",
      "           1       0.09      0.60      0.16      3227\n",
      "\n",
      "    accuracy                           0.58     46884\n",
      "   macro avg       0.52      0.59      0.44     46884\n",
      "weighted avg       0.89      0.58      0.68     46884\n",
      "\n"
     ]
    }
   ],
   "source": [
    "# Decision tree classification report\n",
    "class_report(DT_f1_grid)"
   ]
  },
  {
   "cell_type": "code",
   "execution_count": 331,
   "id": "610c64d5",
   "metadata": {
    "ExecuteTime": {
     "end_time": "2022-04-03T23:03:10.220861Z",
     "start_time": "2022-04-03T23:03:09.621264Z"
    },
    "scrolled": true
   },
   "outputs": [
    {
     "data": {
      "text/html": [
       "<div>\n",
       "<style scoped>\n",
       "    .dataframe tbody tr th:only-of-type {\n",
       "        vertical-align: middle;\n",
       "    }\n",
       "\n",
       "    .dataframe tbody tr th {\n",
       "        vertical-align: top;\n",
       "    }\n",
       "\n",
       "    .dataframe thead th {\n",
       "        text-align: right;\n",
       "    }\n",
       "</style>\n",
       "<table border=\"1\" class=\"dataframe\">\n",
       "  <thead>\n",
       "    <tr style=\"text-align: right;\">\n",
       "      <th></th>\n",
       "      <th>Predicted 0</th>\n",
       "      <th>Predicted 1</th>\n",
       "      <th>Sum of Actuals</th>\n",
       "    </tr>\n",
       "  </thead>\n",
       "  <tbody>\n",
       "    <tr>\n",
       "      <th>Actual 0</th>\n",
       "      <td>25262</td>\n",
       "      <td>18395</td>\n",
       "      <td>43657</td>\n",
       "    </tr>\n",
       "    <tr>\n",
       "      <th>Actual 1</th>\n",
       "      <td>1298</td>\n",
       "      <td>1929</td>\n",
       "      <td>3227</td>\n",
       "    </tr>\n",
       "    <tr>\n",
       "      <th>Sum of Predictions</th>\n",
       "      <td>26560</td>\n",
       "      <td>20324</td>\n",
       "      <td>46884</td>\n",
       "    </tr>\n",
       "  </tbody>\n",
       "</table>\n",
       "</div>"
      ],
      "text/plain": [
       "                    Predicted 0  Predicted 1  Sum of Actuals\n",
       "Actual 0                  25262        18395           43657\n",
       "Actual 1                   1298         1929            3227\n",
       "Sum of Predictions        26560        20324           46884"
      ]
     },
     "execution_count": 331,
     "metadata": {},
     "output_type": "execute_result"
    }
   ],
   "source": [
    "# Decision tree confusion matrix\n",
    "confusion_matrix_generator(DT_f1_grid)"
   ]
  },
  {
   "cell_type": "code",
   "execution_count": 333,
   "id": "a96c7136",
   "metadata": {
    "ExecuteTime": {
     "end_time": "2022-04-03T23:03:18.927413Z",
     "start_time": "2022-04-03T23:03:18.424419Z"
    }
   },
   "outputs": [
    {
     "data": {
      "image/png": "[encoded data removed]",
      "text/plain": [
       "<Figure size 432x288 with 1 Axes>"
      ]
     },
     "metadata": {
      "needs_background": "light"
     },
     "output_type": "display_data"
    },
    {
     "name": "stdout",
     "output_type": "stream",
     "text": [
      "Area under curve (AUC):0.6171038871285673\n"
     ]
    }
   ],
   "source": [
    "ROC_AUC_score(DT_f1_grid)"
   ]
  },
  {
   "cell_type": "markdown",
   "id": "6f1ad99d",
   "metadata": {},
   "source": [
    "From our decision tree model, we get a F1 score of 0.16. This is the best F1 score we've seen so far, but the value is still quite low. The recall score has also dropped compared to the logistic regression with PCA model. Similar to our previous models, the precision score is quite low as the model still produces many false positives. Finally, an AUC score of 0.62 is also the highest we have seen so far. Unfortunately, as we see with the recall score, some large fires would still be misclassified as false negatives. With a recall score of 60%, firefighters will experience larger fires than expected 40% of the time. \n",
    "\n",
    "Although the scoring metrics are low, we can take a look at the features that the nodes are created on. We can determine how individual features are assisting or hindering the decision tree model's prediction. "
   ]
  },
  {
   "cell_type": "code",
   "execution_count": 241,
   "id": "30c8dc20",
   "metadata": {
    "ExecuteTime": {
     "end_time": "2022-04-03T03:01:36.812046Z",
     "start_time": "2022-04-03T02:56:04.473785Z"
    },
    "scrolled": true
   },
   "outputs": [
    {
     "data": {
      "text/html": [
       "<div>\n",
       "<style scoped>\n",
       "    .dataframe tbody tr th:only-of-type {\n",
       "        vertical-align: middle;\n",
       "    }\n",
       "\n",
       "    .dataframe tbody tr th {\n",
       "        vertical-align: top;\n",
       "    }\n",
       "\n",
       "    .dataframe thead th {\n",
       "        text-align: right;\n",
       "    }\n",
       "</style>\n",
       "<table border=\"1\" class=\"dataframe\">\n",
       "  <thead>\n",
       "    <tr style=\"text-align: right;\">\n",
       "      <th></th>\n",
       "      <th>Variable</th>\n",
       "      <th>Importance (%)</th>\n",
       "      <th>Normalized Importance (%)</th>\n",
       "    </tr>\n",
       "  </thead>\n",
       "  <tbody>\n",
       "    <tr>\n",
       "      <th>0</th>\n",
       "      <td>Avg Air Temp (C)</td>\n",
       "      <td>2.214418</td>\n",
       "      <td>40.295301</td>\n",
       "    </tr>\n",
       "    <tr>\n",
       "      <th>1</th>\n",
       "      <td>NWCG_GENERAL_CAUSE</td>\n",
       "      <td>1.353917</td>\n",
       "      <td>24.636954</td>\n",
       "    </tr>\n",
       "    <tr>\n",
       "      <th>2</th>\n",
       "      <td>NWCG_CAUSE_CLASSIFICATION</td>\n",
       "      <td>1.138266</td>\n",
       "      <td>20.712789</td>\n",
       "    </tr>\n",
       "    <tr>\n",
       "      <th>3</th>\n",
       "      <td>Stn Id</td>\n",
       "      <td>0.708564</td>\n",
       "      <td>12.893597</td>\n",
       "    </tr>\n",
       "    <tr>\n",
       "      <th>4</th>\n",
       "      <td>HmsLongitude</td>\n",
       "      <td>0.066610</td>\n",
       "      <td>1.212097</td>\n",
       "    </tr>\n",
       "    <tr>\n",
       "      <th>5</th>\n",
       "      <td>FIRE_YEAR</td>\n",
       "      <td>0.009422</td>\n",
       "      <td>0.171459</td>\n",
       "    </tr>\n",
       "    <tr>\n",
       "      <th>6</th>\n",
       "      <td>Avg Soil Temp (C)</td>\n",
       "      <td>0.004931</td>\n",
       "      <td>0.089733</td>\n",
       "    </tr>\n",
       "    <tr>\n",
       "      <th>7</th>\n",
       "      <td>ETo (mm)</td>\n",
       "      <td>0.004335</td>\n",
       "      <td>0.078891</td>\n",
       "    </tr>\n",
       "    <tr>\n",
       "      <th>8</th>\n",
       "      <td>Sol Rad (W/sq.m)</td>\n",
       "      <td>0.004047</td>\n",
       "      <td>0.073644</td>\n",
       "    </tr>\n",
       "    <tr>\n",
       "      <th>9</th>\n",
       "      <td>DISCOVERY_DOY</td>\n",
       "      <td>0.000342</td>\n",
       "      <td>0.006231</td>\n",
       "    </tr>\n",
       "    <tr>\n",
       "      <th>10</th>\n",
       "      <td>Dew Point (C)</td>\n",
       "      <td>0.000000</td>\n",
       "      <td>0.000000</td>\n",
       "    </tr>\n",
       "    <tr>\n",
       "      <th>11</th>\n",
       "      <td>CIMIS Region</td>\n",
       "      <td>0.000000</td>\n",
       "      <td>0.000000</td>\n",
       "    </tr>\n",
       "    <tr>\n",
       "      <th>12</th>\n",
       "      <td>Elevation</td>\n",
       "      <td>0.000000</td>\n",
       "      <td>0.000000</td>\n",
       "    </tr>\n",
       "    <tr>\n",
       "      <th>13</th>\n",
       "      <td>HmsLatitude</td>\n",
       "      <td>0.000000</td>\n",
       "      <td>0.000000</td>\n",
       "    </tr>\n",
       "    <tr>\n",
       "      <th>14</th>\n",
       "      <td>Avg Vap Pres (kPa)</td>\n",
       "      <td>0.000000</td>\n",
       "      <td>0.000000</td>\n",
       "    </tr>\n",
       "    <tr>\n",
       "      <th>15</th>\n",
       "      <td>Precip (mm)</td>\n",
       "      <td>0.000000</td>\n",
       "      <td>0.000000</td>\n",
       "    </tr>\n",
       "    <tr>\n",
       "      <th>16</th>\n",
       "      <td>Month</td>\n",
       "      <td>0.000000</td>\n",
       "      <td>0.000000</td>\n",
       "    </tr>\n",
       "    <tr>\n",
       "      <th>17</th>\n",
       "      <td>Avg Wind Speed (m/s)</td>\n",
       "      <td>-0.009381</td>\n",
       "      <td>-0.170696</td>\n",
       "    </tr>\n",
       "  </tbody>\n",
       "</table>\n",
       "</div>"
      ],
      "text/plain": [
       "                     Variable  Importance (%)  Normalized Importance (%)\n",
       "0            Avg Air Temp (C)        2.214418                  40.295301\n",
       "1          NWCG_GENERAL_CAUSE        1.353917                  24.636954\n",
       "2   NWCG_CAUSE_CLASSIFICATION        1.138266                  20.712789\n",
       "3                      Stn Id        0.708564                  12.893597\n",
       "4                HmsLongitude        0.066610                   1.212097\n",
       "5                   FIRE_YEAR        0.009422                   0.171459\n",
       "6           Avg Soil Temp (C)        0.004931                   0.089733\n",
       "7                    ETo (mm)        0.004335                   0.078891\n",
       "8            Sol Rad (W/sq.m)        0.004047                   0.073644\n",
       "9               DISCOVERY_DOY        0.000342                   0.006231\n",
       "10              Dew Point (C)        0.000000                   0.000000\n",
       "11               CIMIS Region        0.000000                   0.000000\n",
       "12                  Elevation        0.000000                   0.000000\n",
       "13                HmsLatitude        0.000000                   0.000000\n",
       "14         Avg Vap Pres (kPa)        0.000000                   0.000000\n",
       "15                Precip (mm)        0.000000                   0.000000\n",
       "16                      Month        0.000000                   0.000000\n",
       "17       Avg Wind Speed (m/s)       -0.009381                  -0.170696"
      ]
     },
     "execution_count": 241,
     "metadata": {},
     "output_type": "execute_result"
    }
   ],
   "source": [
    "# Calculate the average importance per feature\n",
    "result = permutation_importance(DT_f1_grid, X_test, y_test, n_repeats=100, random_state=0)\n",
    "importances = result.importances_mean\n",
    "\n",
    "# Normalize the importances\n",
    "normalized_importances = importances / importances.sum()\n",
    "\n",
    "\n",
    "# Put the variable names and their feature importances into a data frame\n",
    "dt_permute_importances_df = pd.DataFrame({'Variable': X_train.columns,\n",
    "                               'Importance (%)': (importances*100),\n",
    "                               'Normalized Importance (%)': (normalized_importances*100)})\n",
    "\n",
    "dt_permute_importances_df.sort_values(by='Normalized Importance (%)', ascending=False, inplace=True, ignore_index=True)\n",
    "\n",
    "dt_permute_importances_df"
   ]
  },
  {
   "cell_type": "code",
   "execution_count": 434,
   "id": "2e7e0a5e",
   "metadata": {
    "ExecuteTime": {
     "end_time": "2022-04-04T04:54:26.818692Z",
     "start_time": "2022-04-04T04:54:26.280172Z"
    },
    "scrolled": true
   },
   "outputs": [
    {
     "data": {
      "image/png": "[encoded data removed]",
      "text/plain": [
       "<Figure size 864x360 with 1 Axes>"
      ]
     },
     "metadata": {
      "needs_background": "light"
     },
     "output_type": "display_data"
    }
   ],
   "source": [
    "# Plot the Permutation Feature Importance\n",
    "\n",
    "fig, ax = plt.subplots(figsize=(12,5))\n",
    "\n",
    "hbars = ax.barh(dt_permute_importances_df['Variable'], dt_permute_importances_df['Normalized Importance (%)'], align='center')\n",
    "plt.title('Decision Tree Feature Importance', fontsize=16)\n",
    "plt.ylabel('Feature')\n",
    "plt.xlabel('Normalized Importance (%)')\n",
    "ax.bar_label(hbars, fmt='%.2f') # Label with specially formatted floats\n",
    "\n",
    "plt.gca().invert_yaxis()\n",
    "sns.despine()\n",
    "\n",
    "plt.show()\n"
   ]
  },
  {
   "cell_type": "markdown",
   "id": "9610d58d",
   "metadata": {},
   "source": [
    "Permutation feature importance is used to measure a features predictive power within this decision tree model. Since decision trees tend to overfit, permutation feature importance avoids this issue by computing on the test data [(Reference)]('https://scikit-learn.org/stable/modules/permutation_importance.html#:~:text=The%20permutation%20feature%20importance%20is,model%20depends%20on%20the%20feature'). Additionally, where decision trees would favor features with high cardinality, such as numeric features, permutation importance avoids these biases. We see that the permutation plot ranks the `Avg Air Temp (C)`, a numeric variable, as the most important feature in predicting the wildfire size. In the second and third position, the decision tree model indicates that large fires are affected by the cause of fire. The longitude and the weather station also have some predictive power for large fires within this model. Interestingly, other geographical features such as latitude or `CIMIS Region` do not predict large fires well. Finally the `Avg Wing Speed (m/s)` has a negative permutation feature importance meaning that the wind speed does not contribute to the predictions, but the prediction is made more accurate only by random chance during the permutation importance calculation,\n",
    "\n",
    "We can take a look at how the cause of the fires may be related to the large fires."
   ]
  },
  {
   "cell_type": "code",
   "execution_count": 373,
   "id": "d0a0dafb",
   "metadata": {
    "ExecuteTime": {
     "end_time": "2022-04-03T23:36:14.729885Z",
     "start_time": "2022-04-03T23:36:14.596517Z"
    }
   },
   "outputs": [],
   "source": [
    "# Create data frame for the general cause of large fires\n",
    "df_fire_gen_cause = df_clean.groupby(['NWCG_GENERAL_CAUSE'], as_index=False)['Large Fire'].sum()\n",
    "df_fire_gen_cause = df_fire_gen_cause.sort_values(by=['Large Fire'], ascending = False)\n",
    "\n",
    "df_fire_cause = df_clean.groupby(['NWCG_CAUSE_CLASSIFICATION'], as_index=False)['Large Fire'].sum()\n",
    "df_fire_cause = df_fire_cause.sort_values(by=['Large Fire'], ascending = False)"
   ]
  },
  {
   "cell_type": "code",
   "execution_count": 435,
   "id": "d2233b3e",
   "metadata": {
    "ExecuteTime": {
     "end_time": "2022-04-04T04:55:17.795926Z",
     "start_time": "2022-04-04T04:55:16.995191Z"
    }
   },
   "outputs": [
    {
     "data": {
      "image/png": "[encoded data removed]",
      "text/plain": [
       "<Figure size 864x360 with 1 Axes>"
      ]
     },
     "metadata": {
      "needs_background": "light"
     },
     "output_type": "display_data"
    }
   ],
   "source": [
    "# Plot the general causes of large fires\n",
    "fig, ax = plt.subplots(figsize=(12,5))\n",
    "\n",
    "hbars = ax.barh(df_fire_gen_cause['NWCG_GENERAL_CAUSE'], df_fire_gen_cause['Large Fire'], align='center')\n",
    "plt.title('Cause of Large Fires', fontsize=16)\n",
    "plt.ylabel('Cause of Fires')\n",
    "plt.xlabel('Number of Large fires')\n",
    "ax.bar_label(hbars) # Label with specially formatted floats\n",
    "\n",
    "plt.gca().invert_yaxis()\n",
    "sns.despine()\n",
    "plt.tight_layout()\n",
    "plt.show()"
   ]
  },
  {
   "cell_type": "code",
   "execution_count": 436,
   "id": "826044ab",
   "metadata": {
    "ExecuteTime": {
     "end_time": "2022-04-04T04:55:35.043612Z",
     "start_time": "2022-04-04T04:55:34.648201Z"
    },
    "scrolled": true
   },
   "outputs": [
    {
     "data": {
      "image/png": "[encoded data removed]",
      "text/plain": [
       "<Figure size 864x360 with 1 Axes>"
      ]
     },
     "metadata": {
      "needs_background": "light"
     },
     "output_type": "display_data"
    }
   ],
   "source": [
    "# Plot the general causes of large fires\n",
    "fig, ax = plt.subplots(figsize=(12,5))\n",
    "\n",
    "hbars = ax.barh(df_fire_cause['NWCG_CAUSE_CLASSIFICATION'], df_fire_cause['Large Fire'], align='center')\n",
    "plt.title('General Cause of Large Fires', fontsize=16)\n",
    "plt.ylabel('Cause of Fires')\n",
    "plt.xlabel('Number of Large fires')\n",
    "ax.bar_label(hbars, fmt='%.2f') # Label with specially formatted floats\n",
    "\n",
    "plt.gca().invert_yaxis()\n",
    "sns.despine()\n",
    "plt.tight_layout()\n",
    "plt.show()\n"
   ]
  },
  {
   "cell_type": "markdown",
   "id": "6fb48b3e",
   "metadata": {},
   "source": [
    "When looking at the causes, we see that humans are the largest contributors to large fires. Many of these causes can be avoided such as debris and open burning or recreational causes. Resources into education or providing fire extinguishers can also be used to limit the large number of fires caused by vehicles or equipment. \n",
    "\n",
    "Finally, we will add the metric scores to our scores dataframe."
   ]
  },
  {
   "cell_type": "code",
   "execution_count": 400,
   "id": "2570581d",
   "metadata": {
    "ExecuteTime": {
     "end_time": "2022-04-03T23:58:51.830372Z",
     "start_time": "2022-04-03T23:58:51.600181Z"
    }
   },
   "outputs": [],
   "source": [
    "# Let's gather all the probabilties from our test set. \n",
    "probabilities = DT_f1_grid.predict_proba(X_test)\n",
    "# note rounded probabilities\n",
    "prob_df = pd.DataFrame(np.round(probabilities,4), columns=['probability of being class 0', 'probability of being class 1'])\n",
    "y_proba = probabilities[:, 1]\n",
    "\n",
    "# Calculate the predicted target classification\n",
    "y_pred = np.where(y_proba > 0.5, 1, 0)\n"
   ]
  },
  {
   "cell_type": "code",
   "execution_count": 401,
   "id": "63f0634e",
   "metadata": {
    "ExecuteTime": {
     "end_time": "2022-04-03T23:58:54.927305Z",
     "start_time": "2022-04-03T23:58:54.614954Z"
    }
   },
   "outputs": [
    {
     "data": {
      "text/html": [
       "<div>\n",
       "<style scoped>\n",
       "    .dataframe tbody tr th:only-of-type {\n",
       "        vertical-align: middle;\n",
       "    }\n",
       "\n",
       "    .dataframe tbody tr th {\n",
       "        vertical-align: top;\n",
       "    }\n",
       "\n",
       "    .dataframe thead th {\n",
       "        text-align: right;\n",
       "    }\n",
       "</style>\n",
       "<table border=\"1\" class=\"dataframe\">\n",
       "  <thead>\n",
       "    <tr style=\"text-align: right;\">\n",
       "      <th></th>\n",
       "      <th>Classification Model</th>\n",
       "      <th>F1 Score</th>\n",
       "      <th>Recall</th>\n",
       "      <th>Precision</th>\n",
       "      <th>AUC Score</th>\n",
       "    </tr>\n",
       "  </thead>\n",
       "  <tbody>\n",
       "    <tr>\n",
       "      <th>0</th>\n",
       "      <td>Logistic Regression</td>\n",
       "      <td>0.15438</td>\n",
       "      <td>0.55438</td>\n",
       "      <td>0.08967</td>\n",
       "      <td>0.56920</td>\n",
       "    </tr>\n",
       "    <tr>\n",
       "      <th>1</th>\n",
       "      <td>Logistic Regression &amp; PCA</td>\n",
       "      <td>0.14281</td>\n",
       "      <td>0.65603</td>\n",
       "      <td>0.08013</td>\n",
       "      <td>0.54966</td>\n",
       "    </tr>\n",
       "    <tr>\n",
       "      <th>2</th>\n",
       "      <td>Decision Trees</td>\n",
       "      <td>0.16381</td>\n",
       "      <td>0.59777</td>\n",
       "      <td>0.09491</td>\n",
       "      <td>0.58821</td>\n",
       "    </tr>\n",
       "    <tr>\n",
       "      <th>3</th>\n",
       "      <td>Random Forest</td>\n",
       "      <td>0.18489</td>\n",
       "      <td>0.56430</td>\n",
       "      <td>0.11056</td>\n",
       "      <td>0.61437</td>\n",
       "    </tr>\n",
       "    <tr>\n",
       "      <th>4</th>\n",
       "      <td>XGBoost</td>\n",
       "      <td>0.14161</td>\n",
       "      <td>0.11063</td>\n",
       "      <td>0.19669</td>\n",
       "      <td>0.53862</td>\n",
       "    </tr>\n",
       "    <tr>\n",
       "      <th>5</th>\n",
       "      <td>Decision Trees</td>\n",
       "      <td>0.16381</td>\n",
       "      <td>0.59777</td>\n",
       "      <td>0.09491</td>\n",
       "      <td>0.58821</td>\n",
       "    </tr>\n",
       "  </tbody>\n",
       "</table>\n",
       "</div>"
      ],
      "text/plain": [
       "        Classification Model  F1 Score  Recall   Precision  AUC Score\n",
       "0        Logistic Regression   0.15438  0.55438    0.08967    0.56920\n",
       "1  Logistic Regression & PCA   0.14281  0.65603    0.08013    0.54966\n",
       "2             Decision Trees   0.16381  0.59777    0.09491    0.58821\n",
       "3              Random Forest   0.18489  0.56430    0.11056    0.61437\n",
       "4                    XGBoost   0.14161  0.11063    0.19669    0.53862\n",
       "5             Decision Trees   0.16381  0.59777    0.09491    0.58821"
      ]
     },
     "execution_count": 401,
     "metadata": {},
     "output_type": "execute_result"
    }
   ],
   "source": [
    "# data frame to track the model's scores\n",
    "df_scores = df_scores.append({\n",
    "                        \"Classification Model\": \"Decision Trees\",\n",
    "                        \"F1 Score\": round(f1_score(y_test, y_pred), 5),\n",
    "                        \"Recall \": round(recall_score(y_test, y_pred),5),\n",
    "                        \"Precision\": round(precision_score(y_test, y_pred),5),\n",
    "                        \"AUC Score\": round(roc_auc_score(y_test, y_pred),5)},\n",
    "                        ignore_index = True)\n",
    "                                        \n",
    "df_scores"
   ]
  },
  {
   "cell_type": "markdown",
   "id": "c2fb944f",
   "metadata": {},
   "source": [
    "## Model 4: Random forests\n",
    "Random forest builds off of decision trees by utilizing an ensemble of decision trees. Each decision tree is optimized separately. The overfitting that may occur within individual decision trees is reduced by averaging multiple independent decision trees. Random forests can also be optimized using the following hyperparameters:\n",
    "\n",
    "- n_estimators: This is the number of decision trees used\n",
    "- max_depth: Similar to the decision trees model, this hyperparameter defines the number of features within each tree\n",
    "- min_samples_leaf: Similar to the decision trees model, this hyperparameter species the minimum number of samples required in each leaf\n",
    "\n",
    "Since random forests utilize an ensemble of decision trees, this is more computationally expensive. We will optimize our modeling by using a randomized search first before fine tuning with grid search.  \n",
    "\n",
    "**Note: Fitting the Random Forest Pipeline has a long run time. To save time, the fitted model was pickled and loaded. If the model needs to be refitted to a new dataset, set the `RF_f1_grid_flag` to 0.**"
   ]
  },
  {
   "cell_type": "code",
   "execution_count": 262,
   "id": "9f505246",
   "metadata": {
    "ExecuteTime": {
     "end_time": "2022-04-03T05:16:24.871945Z",
     "start_time": "2022-04-03T05:04:13.749258Z"
    }
   },
   "outputs": [],
   "source": [
    "# To load a fitted model set `RF_f1_grid_flag` to 1.\n",
    "# If the model needs to be refitted, set `RF_f1_grid_flag` to 0.\n",
    "\n",
    "RF_f1_grid_flag = 1\n",
    "\n",
    "# Load a fitted model.\n",
    "if RF_f1_grid_flag == 1:\n",
    "    RF_f1_grid = joblib.load(\"RF_f1_grid.pkl\")\n",
    "    \n",
    "# Refitting the model\n",
    "else:\n",
    "    # Setting the Random Forest Pipeline\n",
    "    RF_pipeline = ILPipeline(steps = [['smote', SMOTENC(random_state=1, categorical_features=cat_cols_index)],\n",
    "                                ['col_transform', cat_process],\n",
    "                                ['scaler', num_process],\n",
    "                                ['model', RandomForestClassifier(n_estimators = 100)]])\n",
    "    \n",
    "    # Setting the parameters for the Random Forest Pipeline\n",
    "    depths = list(range(1, 20, 2))\n",
    "    leaves = list(range(100, 1000, 100))\n",
    "\n",
    "    param_grid = [{\n",
    "            'model': [RandomForestClassifier()], \n",
    "            'model__max_depth': depths,\n",
    "            'model__min_samples_leaf': leaves  \n",
    "    }]\n",
    "\n",
    "    RF_f1_grid = RandomizedSearchCV(RF_pipeline, param_grid, n_iter=25, cv=3, scoring='f1', n_jobs = -1, random_state = 1)\n",
    "    \n",
    "    # Fit grid onto training set\n",
    "    RF_f1_grid.fit(X_train, y_train) \n",
    "    \n",
    "    # Save the fitted logistic regression model as a .pkl file for later access. \n",
    "    joblib.dump(RF_f1_grid, \"RF_f1_grid.pkl\")"
   ]
  },
  {
   "cell_type": "code",
   "execution_count": 263,
   "id": "577050e9",
   "metadata": {
    "ExecuteTime": {
     "end_time": "2022-04-03T05:16:27.620248Z",
     "start_time": "2022-04-03T05:16:27.596203Z"
    }
   },
   "outputs": [
    {
     "data": {
      "text/plain": [
       "{'model__min_samples_leaf': 200,\n",
       " 'model__max_depth': 13,\n",
       " 'model': RandomForestClassifier(max_depth=13, min_samples_leaf=200)}"
      ]
     },
     "execution_count": 263,
     "metadata": {},
     "output_type": "execute_result"
    }
   ],
   "source": [
    "RF_f1_grid.best_params_"
   ]
  },
  {
   "cell_type": "markdown",
   "id": "00358b99",
   "metadata": {},
   "source": [
    "The randomized search has determined the optimal model as one with a minimum of 200 samples per leaf and a maximum depth of 13. Using a grid search, we can fine tune the `max_depth` and the `min_samples_leaf` range.\n",
    "\n",
    "**Note: Fitting the fine tuned Random Forest Pipeline has a long run time. To save time, the fitted model was pickled and loaded. If the model needs to be refitted to a new dataset, set the `RF_f1_best_grid_flag` to 0.**"
   ]
  },
  {
   "cell_type": "code",
   "execution_count": 268,
   "id": "6eee9267",
   "metadata": {
    "ExecuteTime": {
     "end_time": "2022-04-03T05:57:54.333244Z",
     "start_time": "2022-04-03T05:33:44.677695Z"
    }
   },
   "outputs": [],
   "source": [
    "# To load a fitted model set `RF_f1_best_grid_flag` to 1.\n",
    "# If the model needs to be refitted, set `RF_f1_best_grid_flag` to 0.\n",
    "\n",
    "RF_f1_best_grid_flag = 1\n",
    "\n",
    "# Load a fitted model.\n",
    "if RF_f1_best_grid_flag == 1:\n",
    "    RF_f1_best_grid = joblib.load(\"RF_f1_best_grid.pkl\")\n",
    "    \n",
    "# Refitting the model\n",
    "else:\n",
    "    # Setting the fine tuned Random Forest Pipeline\n",
    "    RF_pipeline = ILPipeline(steps = [['smote', SMOTENC(random_state=1, categorical_features=cat_cols_index)],\n",
    "                                ['col_transform', cat_process],\n",
    "                                ['scaler', num_process],\n",
    "                                ['model', RandomForestClassifier(n_estimators = 100)]])\n",
    "    \n",
    "    # Setting the parameters for the fine tuned Random Forest Pipeline\n",
    "    depths = list(range(10, 15, 1))\n",
    "    leaves = list(range(100, 300, 20))\n",
    "\n",
    "    param_grid = [{\n",
    "            'model': [RandomForestClassifier()], \n",
    "            'model__max_depth': depths,\n",
    "            'model__min_samples_leaf': leaves  \n",
    "    }]\n",
    "\n",
    "    RF_f1_best_grid = GridSearchCV(RF_pipeline, param_grid, cv=3, scoring='f1', n_jobs = -1)\n",
    "    \n",
    "    # Fit grid onto training set\n",
    "    RF_f1_best_grid.fit(X_train, y_train) \n",
    "    \n",
    "    # Save the fitted logistic regression model as a .pkl file for later access. \n",
    "    joblib.dump(RF_f1_best_grid, \"RF_f1_best_grid.pkl\")"
   ]
  },
  {
   "cell_type": "code",
   "execution_count": 269,
   "id": "79918032",
   "metadata": {
    "ExecuteTime": {
     "end_time": "2022-04-03T05:57:57.123486Z",
     "start_time": "2022-04-03T05:57:57.103468Z"
    },
    "scrolled": true
   },
   "outputs": [
    {
     "data": {
      "text/plain": [
       "{'model': RandomForestClassifier(max_depth=14, min_samples_leaf=140),\n",
       " 'model__max_depth': 14,\n",
       " 'model__min_samples_leaf': 140}"
      ]
     },
     "execution_count": 269,
     "metadata": {},
     "output_type": "execute_result"
    }
   ],
   "source": [
    "RF_f1_best_grid.best_params_"
   ]
  },
  {
   "cell_type": "markdown",
   "id": "8445fb82",
   "metadata": {},
   "source": [
    "Using a grid search to fine tune the model, the optimal model has a maximum depth of 14 and 140 samples per leaf. Let's compare the scoring in the train and test sets."
   ]
  },
  {
   "cell_type": "code",
   "execution_count": 406,
   "id": "e0796e50",
   "metadata": {
    "ExecuteTime": {
     "end_time": "2022-04-04T00:21:47.521399Z",
     "start_time": "2022-04-04T00:21:39.795609Z"
    },
    "scrolled": false
   },
   "outputs": [
    {
     "name": "stdout",
     "output_type": "stream",
     "text": [
      "Train set F1 score: 0.20337599410122717\n",
      "Test set F1 score: 0.18635101869795215\n"
     ]
    }
   ],
   "source": [
    "# Print F1 scores for the train and test set\n",
    "print(F\"Train set F1 score: {RF_f1_best_grid.score(X_train, y_train)}\") \n",
    "print(F\"Test set F1 score: {RF_f1_best_grid.score(X_test, y_test)}\") "
   ]
  },
  {
   "cell_type": "markdown",
   "id": "90932f09",
   "metadata": {},
   "source": [
    "The F1 score for the train and test set are comparable. Again, we see the F1 score is quite low. Let's look at some of the metrics with this model. "
   ]
  },
  {
   "cell_type": "code",
   "execution_count": 270,
   "id": "2868234f",
   "metadata": {
    "ExecuteTime": {
     "end_time": "2022-04-03T05:58:01.086502Z",
     "start_time": "2022-04-03T05:57:59.325183Z"
    }
   },
   "outputs": [
    {
     "name": "stdout",
     "output_type": "stream",
     "text": [
      "              precision    recall  f1-score   support\n",
      "\n",
      "           0       0.95      0.68      0.79     43657\n",
      "           1       0.11      0.55      0.19      3227\n",
      "\n",
      "    accuracy                           0.67     46884\n",
      "   macro avg       0.53      0.61      0.49     46884\n",
      "weighted avg       0.90      0.67      0.75     46884\n",
      "\n"
     ]
    }
   ],
   "source": [
    "# Random forest classification report\n",
    "class_report(RF_f1_best_grid)"
   ]
  },
  {
   "cell_type": "code",
   "execution_count": 271,
   "id": "86624498",
   "metadata": {
    "ExecuteTime": {
     "end_time": "2022-04-03T05:58:06.774946Z",
     "start_time": "2022-04-03T05:58:03.674604Z"
    },
    "scrolled": true
   },
   "outputs": [
    {
     "data": {
      "text/html": [
       "<div>\n",
       "<style scoped>\n",
       "    .dataframe tbody tr th:only-of-type {\n",
       "        vertical-align: middle;\n",
       "    }\n",
       "\n",
       "    .dataframe tbody tr th {\n",
       "        vertical-align: top;\n",
       "    }\n",
       "\n",
       "    .dataframe thead th {\n",
       "        text-align: right;\n",
       "    }\n",
       "</style>\n",
       "<table border=\"1\" class=\"dataframe\">\n",
       "  <thead>\n",
       "    <tr style=\"text-align: right;\">\n",
       "      <th></th>\n",
       "      <th>Predicted 0</th>\n",
       "      <th>Predicted 1</th>\n",
       "      <th>Sum of Actuals</th>\n",
       "    </tr>\n",
       "  </thead>\n",
       "  <tbody>\n",
       "    <tr>\n",
       "      <th>Actual 0</th>\n",
       "      <td>29570</td>\n",
       "      <td>14087</td>\n",
       "      <td>43657</td>\n",
       "    </tr>\n",
       "    <tr>\n",
       "      <th>Actual 1</th>\n",
       "      <td>1448</td>\n",
       "      <td>1779</td>\n",
       "      <td>3227</td>\n",
       "    </tr>\n",
       "    <tr>\n",
       "      <th>Sum of Predictions</th>\n",
       "      <td>31018</td>\n",
       "      <td>15866</td>\n",
       "      <td>46884</td>\n",
       "    </tr>\n",
       "  </tbody>\n",
       "</table>\n",
       "</div>"
      ],
      "text/plain": [
       "                    Predicted 0  Predicted 1  Sum of Actuals\n",
       "Actual 0                  29570        14087           43657\n",
       "Actual 1                   1448         1779            3227\n",
       "Sum of Predictions        31018        15866           46884"
      ]
     },
     "execution_count": 271,
     "metadata": {},
     "output_type": "execute_result"
    }
   ],
   "source": [
    "# Random forest confusion matrix\n",
    "confusion_matrix_generator(RF_f1_best_grid)"
   ]
  },
  {
   "cell_type": "code",
   "execution_count": 272,
   "id": "176d7580",
   "metadata": {
    "ExecuteTime": {
     "end_time": "2022-04-03T05:58:10.281075Z",
     "start_time": "2022-04-03T05:58:08.602983Z"
    }
   },
   "outputs": [
    {
     "data": {
      "image/png": "[encoded data removed]",
      "text/plain": [
       "<Figure size 432x288 with 1 Axes>"
      ]
     },
     "metadata": {
      "needs_background": "light"
     },
     "output_type": "display_data"
    },
    {
     "name": "stdout",
     "output_type": "stream",
     "text": [
      "Area under curve (AUC):0.667757591028562\n"
     ]
    }
   ],
   "source": [
    "# Random Forest AUC Score\n",
    "ROC_AUC_score (RF_f1_best_grid)"
   ]
  },
  {
   "cell_type": "markdown",
   "id": "6b27f3f8",
   "metadata": {},
   "source": [
    "The random forest model has the greatest F1 and AUC scores so far. Unfortunately, the F1 score is still only 0.18 and the recall and precision scores are still low. Again, we see that there are many false positives from this model. This continues to drive down the precision score. The recall score is also reduced by the false negatives. Again, between false positives and false negatives, false positives would be preferred over the potentially more destructive false negatives. \n",
    "\n",
    "In this model, the AUC score is 0.61 indicating that it has a better chance of predicting the target class than producing a false positive prediction. This is a minor improvement from the decision trees model which had an AUC score of 0.59. \n",
    "\n",
    "Next we can look at how the random forest model scores the features' importance."
   ]
  },
  {
   "cell_type": "code",
   "execution_count": 273,
   "id": "dc7baaa8",
   "metadata": {
    "ExecuteTime": {
     "end_time": "2022-04-03T06:40:17.795138Z",
     "start_time": "2022-04-03T05:58:12.851449Z"
    },
    "scrolled": true
   },
   "outputs": [
    {
     "data": {
      "text/html": [
       "<div>\n",
       "<style scoped>\n",
       "    .dataframe tbody tr th:only-of-type {\n",
       "        vertical-align: middle;\n",
       "    }\n",
       "\n",
       "    .dataframe tbody tr th {\n",
       "        vertical-align: top;\n",
       "    }\n",
       "\n",
       "    .dataframe thead th {\n",
       "        text-align: right;\n",
       "    }\n",
       "</style>\n",
       "<table border=\"1\" class=\"dataframe\">\n",
       "  <thead>\n",
       "    <tr style=\"text-align: right;\">\n",
       "      <th></th>\n",
       "      <th>Variable</th>\n",
       "      <th>Importance (%)</th>\n",
       "      <th>Normalized Importance (%)</th>\n",
       "    </tr>\n",
       "  </thead>\n",
       "  <tbody>\n",
       "    <tr>\n",
       "      <th>0</th>\n",
       "      <td>NWCG_CAUSE_CLASSIFICATION</td>\n",
       "      <td>2.647858</td>\n",
       "      <td>29.886121</td>\n",
       "    </tr>\n",
       "    <tr>\n",
       "      <th>1</th>\n",
       "      <td>NWCG_GENERAL_CAUSE</td>\n",
       "      <td>2.110780</td>\n",
       "      <td>23.824175</td>\n",
       "    </tr>\n",
       "    <tr>\n",
       "      <th>2</th>\n",
       "      <td>FIRE_YEAR</td>\n",
       "      <td>0.683134</td>\n",
       "      <td>7.710468</td>\n",
       "    </tr>\n",
       "    <tr>\n",
       "      <th>3</th>\n",
       "      <td>CIMIS Region</td>\n",
       "      <td>0.452530</td>\n",
       "      <td>5.107666</td>\n",
       "    </tr>\n",
       "    <tr>\n",
       "      <th>4</th>\n",
       "      <td>Avg Air Temp (C)</td>\n",
       "      <td>0.447793</td>\n",
       "      <td>5.054193</td>\n",
       "    </tr>\n",
       "    <tr>\n",
       "      <th>5</th>\n",
       "      <td>DISCOVERY_DOY</td>\n",
       "      <td>0.362635</td>\n",
       "      <td>4.093022</td>\n",
       "    </tr>\n",
       "    <tr>\n",
       "      <th>6</th>\n",
       "      <td>HmsLatitude</td>\n",
       "      <td>0.356307</td>\n",
       "      <td>4.021602</td>\n",
       "    </tr>\n",
       "    <tr>\n",
       "      <th>7</th>\n",
       "      <td>Elevation</td>\n",
       "      <td>0.342355</td>\n",
       "      <td>3.864127</td>\n",
       "    </tr>\n",
       "    <tr>\n",
       "      <th>8</th>\n",
       "      <td>Stn Id</td>\n",
       "      <td>0.341305</td>\n",
       "      <td>3.852273</td>\n",
       "    </tr>\n",
       "    <tr>\n",
       "      <th>9</th>\n",
       "      <td>HmsLongitude</td>\n",
       "      <td>0.271218</td>\n",
       "      <td>3.061206</td>\n",
       "    </tr>\n",
       "    <tr>\n",
       "      <th>10</th>\n",
       "      <td>Avg Wind Speed (m/s)</td>\n",
       "      <td>0.226262</td>\n",
       "      <td>2.553799</td>\n",
       "    </tr>\n",
       "    <tr>\n",
       "      <th>11</th>\n",
       "      <td>Avg Soil Temp (C)</td>\n",
       "      <td>0.190517</td>\n",
       "      <td>2.150347</td>\n",
       "    </tr>\n",
       "    <tr>\n",
       "      <th>12</th>\n",
       "      <td>ETo (mm)</td>\n",
       "      <td>0.118545</td>\n",
       "      <td>1.338008</td>\n",
       "    </tr>\n",
       "    <tr>\n",
       "      <th>13</th>\n",
       "      <td>Avg Vap Pres (kPa)</td>\n",
       "      <td>0.115624</td>\n",
       "      <td>1.305037</td>\n",
       "    </tr>\n",
       "    <tr>\n",
       "      <th>14</th>\n",
       "      <td>Month</td>\n",
       "      <td>0.090258</td>\n",
       "      <td>1.018728</td>\n",
       "    </tr>\n",
       "    <tr>\n",
       "      <th>15</th>\n",
       "      <td>Dew Point (C)</td>\n",
       "      <td>0.070885</td>\n",
       "      <td>0.800077</td>\n",
       "    </tr>\n",
       "    <tr>\n",
       "      <th>16</th>\n",
       "      <td>Sol Rad (W/sq.m)</td>\n",
       "      <td>0.032919</td>\n",
       "      <td>0.371552</td>\n",
       "    </tr>\n",
       "    <tr>\n",
       "      <th>17</th>\n",
       "      <td>Precip (mm)</td>\n",
       "      <td>-0.001099</td>\n",
       "      <td>-0.012403</td>\n",
       "    </tr>\n",
       "  </tbody>\n",
       "</table>\n",
       "</div>"
      ],
      "text/plain": [
       "                     Variable  Importance (%)  Normalized Importance (%)\n",
       "0   NWCG_CAUSE_CLASSIFICATION        2.647858                  29.886121\n",
       "1          NWCG_GENERAL_CAUSE        2.110780                  23.824175\n",
       "2                   FIRE_YEAR        0.683134                   7.710468\n",
       "3                CIMIS Region        0.452530                   5.107666\n",
       "4            Avg Air Temp (C)        0.447793                   5.054193\n",
       "5               DISCOVERY_DOY        0.362635                   4.093022\n",
       "6                 HmsLatitude        0.356307                   4.021602\n",
       "7                   Elevation        0.342355                   3.864127\n",
       "8                      Stn Id        0.341305                   3.852273\n",
       "9                HmsLongitude        0.271218                   3.061206\n",
       "10       Avg Wind Speed (m/s)        0.226262                   2.553799\n",
       "11          Avg Soil Temp (C)        0.190517                   2.150347\n",
       "12                   ETo (mm)        0.118545                   1.338008\n",
       "13         Avg Vap Pres (kPa)        0.115624                   1.305037\n",
       "14                      Month        0.090258                   1.018728\n",
       "15              Dew Point (C)        0.070885                   0.800077\n",
       "16           Sol Rad (W/sq.m)        0.032919                   0.371552\n",
       "17                Precip (mm)       -0.001099                  -0.012403"
      ]
     },
     "execution_count": 273,
     "metadata": {},
     "output_type": "execute_result"
    }
   ],
   "source": [
    "# Calculate the average importance per feature\n",
    "result = permutation_importance(RF_f1_best_grid, X_test, y_test, n_repeats=100, random_state=0)\n",
    "importances = result.importances_mean\n",
    "\n",
    "# Normalize the importances\n",
    "normalized_importances = importances / importances.sum()\n",
    "\n",
    "\n",
    "# Put the variable names and their feature importances into a data frame\n",
    "rf_permute_importances_df = pd.DataFrame({'Variable': X_train.columns,\n",
    "                               'Importance (%)': (importances*100),\n",
    "                               'Normalized Importance (%)': (normalized_importances*100)})\n",
    "\n",
    "rf_permute_importances_df.sort_values(by='Normalized Importance (%)', ascending=False, inplace=True, ignore_index=True)\n",
    "\n",
    "rf_permute_importances_df"
   ]
  },
  {
   "cell_type": "code",
   "execution_count": 437,
   "id": "04e74a12",
   "metadata": {
    "ExecuteTime": {
     "end_time": "2022-04-04T04:55:52.162675Z",
     "start_time": "2022-04-04T04:55:51.304223Z"
    }
   },
   "outputs": [
    {
     "data": {
      "image/png": "[encoded data removed]",
      "text/plain": [
       "<Figure size 864x360 with 1 Axes>"
      ]
     },
     "metadata": {
      "needs_background": "light"
     },
     "output_type": "display_data"
    }
   ],
   "source": [
    "# Plot the Permutation Feature Importance\n",
    "fig, ax = plt.subplots(figsize=(12,5))\n",
    "\n",
    "hbars = ax.barh(rf_permute_importances_df['Variable'], rf_permute_importances_df['Normalized Importance (%)'], align='center')\n",
    "plt.title('Random Forest Feature Importance', fontsize=16)\n",
    "plt.ylabel('Feature')\n",
    "plt.xlabel('Normalized Importance (%)')\n",
    "ax.bar_label(hbars, fmt='%.2f') # Label with specially formatted floats\n",
    "\n",
    "plt.gca().invert_yaxis()\n",
    "sns.despine()\n",
    "plt.tight_layout()\n",
    "plt.show()"
   ]
  },
  {
   "cell_type": "markdown",
   "id": "fc058865",
   "metadata": {},
   "source": [
    "Again we see that out of the available features, the causes of the fire are the best predictor for large forest fires. The general cause and the cause classification have a normalized importance greater than 20% each. This time, we see that the forest fires are also predicted by the `FIRE_YEAR`. In the time series model, the effect of the year was not clear, but the wildfires did seem to follow a cyclic pattern. The day of the year, `DISCOVERY DOY` is also a good predictor for large fires. \n",
    "\n",
    "In terms of weather, most features are have minor importance in this model. Only the `Avg Air Temp (C)` has a normalized importance greater than 5% within this model. Other weather features are out of the top 10 featuers in terms of normalized importance. `Precipitation` does not predict for the large fires well in this model. This could because California has been in a drought and precipitation is limited. Recall that the precipitation distribution clusters around 0 mm. \n",
    "\n",
    "Geographically, it looks like large fires are more prevalent in certain `CIMIS Regions` of California. Other geographical features are found in the top 10 of normalized importance. This include the `Longitude`, `Latitude` and the `Elevation`.\n",
    "\n",
    "As we saw with the time series EDA, the date is also indicative of large fires. `Month` and `DISCOVERY DOY` (date of the year that the fire started) are also in the top 10 predictors. Interestingly, the weather features, such as the `solar radiation`, `precipitation` and `average soil temperates` are not strong predictors for large fires. \n",
    "\n",
    "In this random forest model, the recall score is lower than the 'Logistic Regression & PCA' and 'Decision trees' models. It can be worth exploring how the model changes based on the threshold. "
   ]
  },
  {
   "cell_type": "code",
   "execution_count": 294,
   "id": "865aaf5e",
   "metadata": {
    "ExecuteTime": {
     "end_time": "2022-04-03T07:49:09.087576Z",
     "start_time": "2022-04-03T07:49:07.616917Z"
    }
   },
   "outputs": [],
   "source": [
    "# Let's gather all the probabilties from our test set. \n",
    "probabilities = RF_f1_grid.predict_proba(X_test)\n",
    "# note rounded probabilities\n",
    "prob_df = pd.DataFrame(np.round(probabilities,4), columns=['probability of being class 0', 'probability of being class 1'])\n",
    "y_proba = probabilities[:, 1]\n",
    "\n",
    "# Calculate the predicted target classification\n",
    "y_pred = np.where(y_proba > 0.5, 1, 0)"
   ]
  },
  {
   "cell_type": "code",
   "execution_count": 408,
   "id": "f9cfd0a5",
   "metadata": {
    "ExecuteTime": {
     "end_time": "2022-04-04T00:24:36.153787Z",
     "start_time": "2022-04-04T00:24:34.333867Z"
    },
    "scrolled": false
   },
   "outputs": [
    {
     "data": {
      "image/png": "[encoded data removed]",
      "text/plain": [
       "<Figure size 432x288 with 1 Axes>"
      ]
     },
     "metadata": {
      "needs_background": "light"
     },
     "output_type": "display_data"
    }
   ],
   "source": [
    "# Vary thresholds by 0.05 from 0.05 to 0.95\n",
    "thresholds = np.arange(0.05, 1, 0.05)\n",
    "\n",
    "f1_score_list = []\n",
    "precisions = []\n",
    "recalls = []\n",
    "roc_auc_list = []\n",
    "\n",
    "for threshold in thresholds:\n",
    "\n",
    "    # Apply threshold\n",
    "    y_threshold = np.where(y_proba > threshold, 1, 0)\n",
    "    y_threshold = pd.Series(y_threshold)\n",
    "    \n",
    "    # Calculate precision and recall\n",
    "    precision = precision_score(y_test, y_threshold)\n",
    "    recall = recall_score(y_test, y_threshold)\n",
    "    f1_scores = ((2*precision*recall) / (recall + precision))\n",
    "    roc_auc = roc_auc_score(y_test, y_threshold)\n",
    "    \n",
    "    # Append to list\n",
    "    precisions.append(precision)\n",
    "    recalls.append(recall)\n",
    "    f1_score_list.append(f1_scores)\n",
    "    roc_auc_list.append(roc_auc)\n",
    "\n",
    "# Visualize the result\n",
    "plt.figure()\n",
    "plt.plot(thresholds, f1_score_list, label='F1 Scores', marker='o')\n",
    "plt.xlim(0, 1)\n",
    "plt.xlabel('Threshold')\n",
    "plt.ylabel('F1 Score')\n",
    "plt.legend()\n",
    "plt.show()"
   ]
  },
  {
   "cell_type": "code",
   "execution_count": 410,
   "id": "ced53fe9",
   "metadata": {
    "ExecuteTime": {
     "end_time": "2022-04-04T00:38:11.577095Z",
     "start_time": "2022-04-04T00:38:11.530023Z"
    },
    "scrolled": true
   },
   "outputs": [
    {
     "data": {
      "text/html": [
       "<div>\n",
       "<style scoped>\n",
       "    .dataframe tbody tr th:only-of-type {\n",
       "        vertical-align: middle;\n",
       "    }\n",
       "\n",
       "    .dataframe tbody tr th {\n",
       "        vertical-align: top;\n",
       "    }\n",
       "\n",
       "    .dataframe thead th {\n",
       "        text-align: right;\n",
       "    }\n",
       "</style>\n",
       "<table border=\"1\" class=\"dataframe\">\n",
       "  <thead>\n",
       "    <tr style=\"text-align: right;\">\n",
       "      <th></th>\n",
       "      <th>Threshold</th>\n",
       "      <th>F1 Score</th>\n",
       "      <th>Precision</th>\n",
       "      <th>Recall</th>\n",
       "      <th>AUC Score</th>\n",
       "    </tr>\n",
       "  </thead>\n",
       "  <tbody>\n",
       "    <tr>\n",
       "      <th>0</th>\n",
       "      <td>0.05</td>\n",
       "      <td>0.133223</td>\n",
       "      <td>0.071500</td>\n",
       "      <td>0.974280</td>\n",
       "      <td>0.519540</td>\n",
       "    </tr>\n",
       "    <tr>\n",
       "      <th>1</th>\n",
       "      <td>0.10</td>\n",
       "      <td>0.136859</td>\n",
       "      <td>0.073738</td>\n",
       "      <td>0.950418</td>\n",
       "      <td>0.533974</td>\n",
       "    </tr>\n",
       "    <tr>\n",
       "      <th>2</th>\n",
       "      <td>0.15</td>\n",
       "      <td>0.140585</td>\n",
       "      <td>0.076115</td>\n",
       "      <td>0.918810</td>\n",
       "      <td>0.547226</td>\n",
       "    </tr>\n",
       "    <tr>\n",
       "      <th>3</th>\n",
       "      <td>0.20</td>\n",
       "      <td>0.143026</td>\n",
       "      <td>0.077689</td>\n",
       "      <td>0.899597</td>\n",
       "      <td>0.555085</td>\n",
       "    </tr>\n",
       "    <tr>\n",
       "      <th>4</th>\n",
       "      <td>0.25</td>\n",
       "      <td>0.143127</td>\n",
       "      <td>0.077809</td>\n",
       "      <td>0.891540</td>\n",
       "      <td>0.555248</td>\n",
       "    </tr>\n",
       "    <tr>\n",
       "      <th>5</th>\n",
       "      <td>0.30</td>\n",
       "      <td>0.146910</td>\n",
       "      <td>0.080516</td>\n",
       "      <td>0.837620</td>\n",
       "      <td>0.565281</td>\n",
       "    </tr>\n",
       "    <tr>\n",
       "      <th>6</th>\n",
       "      <td>0.35</td>\n",
       "      <td>0.147103</td>\n",
       "      <td>0.080655</td>\n",
       "      <td>0.835141</td>\n",
       "      <td>0.565748</td>\n",
       "    </tr>\n",
       "    <tr>\n",
       "      <th>7</th>\n",
       "      <td>0.40</td>\n",
       "      <td>0.146144</td>\n",
       "      <td>0.080308</td>\n",
       "      <td>0.810970</td>\n",
       "      <td>0.562241</td>\n",
       "    </tr>\n",
       "    <tr>\n",
       "      <th>8</th>\n",
       "      <td>0.45</td>\n",
       "      <td>0.146352</td>\n",
       "      <td>0.080443</td>\n",
       "      <td>0.810040</td>\n",
       "      <td>0.562796</td>\n",
       "    </tr>\n",
       "    <tr>\n",
       "      <th>9</th>\n",
       "      <td>0.50</td>\n",
       "      <td>0.163815</td>\n",
       "      <td>0.094912</td>\n",
       "      <td>0.597769</td>\n",
       "      <td>0.588208</td>\n",
       "    </tr>\n",
       "    <tr>\n",
       "      <th>10</th>\n",
       "      <td>0.55</td>\n",
       "      <td>0.164251</td>\n",
       "      <td>0.095269</td>\n",
       "      <td>0.595290</td>\n",
       "      <td>0.588709</td>\n",
       "    </tr>\n",
       "    <tr>\n",
       "      <th>11</th>\n",
       "      <td>0.60</td>\n",
       "      <td>0.171238</td>\n",
       "      <td>0.115163</td>\n",
       "      <td>0.333747</td>\n",
       "      <td>0.572100</td>\n",
       "    </tr>\n",
       "    <tr>\n",
       "      <th>12</th>\n",
       "      <td>0.65</td>\n",
       "      <td>0.171238</td>\n",
       "      <td>0.115163</td>\n",
       "      <td>0.333747</td>\n",
       "      <td>0.572100</td>\n",
       "    </tr>\n",
       "    <tr>\n",
       "      <th>13</th>\n",
       "      <td>0.70</td>\n",
       "      <td>0.035735</td>\n",
       "      <td>0.255144</td>\n",
       "      <td>0.019213</td>\n",
       "      <td>0.507533</td>\n",
       "    </tr>\n",
       "    <tr>\n",
       "      <th>14</th>\n",
       "      <td>0.75</td>\n",
       "      <td>0.035735</td>\n",
       "      <td>0.255144</td>\n",
       "      <td>0.019213</td>\n",
       "      <td>0.507533</td>\n",
       "    </tr>\n",
       "    <tr>\n",
       "      <th>15</th>\n",
       "      <td>0.80</td>\n",
       "      <td>0.035735</td>\n",
       "      <td>0.255144</td>\n",
       "      <td>0.019213</td>\n",
       "      <td>0.507533</td>\n",
       "    </tr>\n",
       "    <tr>\n",
       "      <th>16</th>\n",
       "      <td>0.85</td>\n",
       "      <td>NaN</td>\n",
       "      <td>0.000000</td>\n",
       "      <td>0.000000</td>\n",
       "      <td>0.500000</td>\n",
       "    </tr>\n",
       "    <tr>\n",
       "      <th>17</th>\n",
       "      <td>0.90</td>\n",
       "      <td>NaN</td>\n",
       "      <td>0.000000</td>\n",
       "      <td>0.000000</td>\n",
       "      <td>0.500000</td>\n",
       "    </tr>\n",
       "    <tr>\n",
       "      <th>18</th>\n",
       "      <td>0.95</td>\n",
       "      <td>NaN</td>\n",
       "      <td>0.000000</td>\n",
       "      <td>0.000000</td>\n",
       "      <td>0.500000</td>\n",
       "    </tr>\n",
       "  </tbody>\n",
       "</table>\n",
       "</div>"
      ],
      "text/plain": [
       "    Threshold  F1 Score  Precision    Recall  AUC Score\n",
       "0        0.05  0.133223   0.071500  0.974280   0.519540\n",
       "1        0.10  0.136859   0.073738  0.950418   0.533974\n",
       "2        0.15  0.140585   0.076115  0.918810   0.547226\n",
       "3        0.20  0.143026   0.077689  0.899597   0.555085\n",
       "4        0.25  0.143127   0.077809  0.891540   0.555248\n",
       "5        0.30  0.146910   0.080516  0.837620   0.565281\n",
       "6        0.35  0.147103   0.080655  0.835141   0.565748\n",
       "7        0.40  0.146144   0.080308  0.810970   0.562241\n",
       "8        0.45  0.146352   0.080443  0.810040   0.562796\n",
       "9        0.50  0.163815   0.094912  0.597769   0.588208\n",
       "10       0.55  0.164251   0.095269  0.595290   0.588709\n",
       "11       0.60  0.171238   0.115163  0.333747   0.572100\n",
       "12       0.65  0.171238   0.115163  0.333747   0.572100\n",
       "13       0.70  0.035735   0.255144  0.019213   0.507533\n",
       "14       0.75  0.035735   0.255144  0.019213   0.507533\n",
       "15       0.80  0.035735   0.255144  0.019213   0.507533\n",
       "16       0.85       NaN   0.000000  0.000000   0.500000\n",
       "17       0.90       NaN   0.000000  0.000000   0.500000\n",
       "18       0.95       NaN   0.000000  0.000000   0.500000"
      ]
     },
     "execution_count": 410,
     "metadata": {},
     "output_type": "execute_result"
    }
   ],
   "source": [
    "# data frame to track the model's scores\n",
    "df_RF_F1_scores = pd.DataFrame({\n",
    "                        \"Threshold\": thresholds,\n",
    "                        \"F1 Score\": f1_score_list,\n",
    "                        \"Precision\": precisions,        \n",
    "                        \"Recall\": recalls,\n",
    "                        \"AUC Score\": roc_auc_list  \n",
    "                        })\n",
    "                                        \n",
    "df_RF_F1_scores"
   ]
  },
  {
   "cell_type": "markdown",
   "id": "171b6ca3",
   "metadata": {},
   "source": [
    "With a reduced threshold of just 5% to 0.45, the recall score increases from 0.6 to 0.81. If recall were to be the main focus, the reduced threshold may be worth exploring in future models. At a threshold of 0.45, the F1 and precision scores see slight decreases, but this may be worthwhile for a recall score in the 80th percentile. False negatives would be limited and the news of large fires could be trusted at a higher degree. \n",
    "\n",
    "The metrics for the random forest model will be stored in the scores dataframe."
   ]
  },
  {
   "cell_type": "code",
   "execution_count": 295,
   "id": "3e2c6186",
   "metadata": {
    "ExecuteTime": {
     "end_time": "2022-04-03T07:49:12.193654Z",
     "start_time": "2022-04-03T07:49:11.993124Z"
    },
    "scrolled": true
   },
   "outputs": [
    {
     "data": {
      "text/html": [
       "<div>\n",
       "<style scoped>\n",
       "    .dataframe tbody tr th:only-of-type {\n",
       "        vertical-align: middle;\n",
       "    }\n",
       "\n",
       "    .dataframe tbody tr th {\n",
       "        vertical-align: top;\n",
       "    }\n",
       "\n",
       "    .dataframe thead th {\n",
       "        text-align: right;\n",
       "    }\n",
       "</style>\n",
       "<table border=\"1\" class=\"dataframe\">\n",
       "  <thead>\n",
       "    <tr style=\"text-align: right;\">\n",
       "      <th></th>\n",
       "      <th>Classification Model</th>\n",
       "      <th>F1 Score</th>\n",
       "      <th>Recall</th>\n",
       "      <th>Precision</th>\n",
       "      <th>AUC Score</th>\n",
       "    </tr>\n",
       "  </thead>\n",
       "  <tbody>\n",
       "    <tr>\n",
       "      <th>0</th>\n",
       "      <td>Logistic Regression</td>\n",
       "      <td>0.15438</td>\n",
       "      <td>0.55438</td>\n",
       "      <td>0.08967</td>\n",
       "      <td>0.56920</td>\n",
       "    </tr>\n",
       "    <tr>\n",
       "      <th>1</th>\n",
       "      <td>Logistic Regression &amp; PCA</td>\n",
       "      <td>0.14281</td>\n",
       "      <td>0.65603</td>\n",
       "      <td>0.08013</td>\n",
       "      <td>0.54966</td>\n",
       "    </tr>\n",
       "    <tr>\n",
       "      <th>2</th>\n",
       "      <td>Decision Trees</td>\n",
       "      <td>0.16381</td>\n",
       "      <td>0.59777</td>\n",
       "      <td>0.09491</td>\n",
       "      <td>0.58821</td>\n",
       "    </tr>\n",
       "    <tr>\n",
       "      <th>3</th>\n",
       "      <td>Random Forest</td>\n",
       "      <td>0.18489</td>\n",
       "      <td>0.56430</td>\n",
       "      <td>0.11056</td>\n",
       "      <td>0.61437</td>\n",
       "    </tr>\n",
       "  </tbody>\n",
       "</table>\n",
       "</div>"
      ],
      "text/plain": [
       "        Classification Model  F1 Score  Recall   Precision  AUC Score\n",
       "0        Logistic Regression   0.15438  0.55438    0.08967    0.56920\n",
       "1  Logistic Regression & PCA   0.14281  0.65603    0.08013    0.54966\n",
       "2             Decision Trees   0.16381  0.59777    0.09491    0.58821\n",
       "3              Random Forest   0.18489  0.56430    0.11056    0.61437"
      ]
     },
     "execution_count": 295,
     "metadata": {},
     "output_type": "execute_result"
    }
   ],
   "source": [
    "# data frame to track the model's scores\n",
    "df_scores = df_scores.append({\n",
    "                        \"Classification Model\": \"Random Forest\",\n",
    "                        \"F1 Score\": round(f1_score(y_test, y_pred), 5),\n",
    "                        \"Recall \": round(recall_score(y_test, y_pred),5),\n",
    "                        \"Precision\": round(precision_score(y_test, y_pred),5),\n",
    "                        \"AUC Score\": round(roc_auc_score(y_test, y_pred),5)},\n",
    "                        ignore_index = True)\n",
    "                                        \n",
    "df_scores"
   ]
  },
  {
   "cell_type": "markdown",
   "id": "7e5b530e",
   "metadata": {},
   "source": [
    "## Model 5: XGBoost\n",
    "Boosting works in a similar fashion as random forests. Instead of training independent models in random forests, models are trained sequentially to learn from previous models. XGBoost uses regularization to penalize extreme coefficients to produce a more generalized model. \n",
    "\n",
    "We will being by using a randomized search and cross validation to determine an approximate range for the hyperparameters. This will be followed by a grid search to fine tune the hyperparameters. XGboost will optimize the following hyperparameters:\n",
    "- Max depth: Similar to the random forests and decision trees, this limits how many features the model may split on\n",
    "- Minimum Child Weight: Corresponds to the number of samples required to create a new node. Smaller weights would mean that fewer sample are required to split and would lead to overfitting.\n",
    "\n",
    "\n",
    "**Note: Fitting the XGBoost Pipeline takes a long run time. To save time, the fitted model was pickled and loaded. If the model needs to be refitted to a new dataset, set the `XG_f1_grid_flag` to 0.**"
   ]
  },
  {
   "cell_type": "code",
   "execution_count": 412,
   "id": "4a73a24a",
   "metadata": {
    "ExecuteTime": {
     "end_time": "2022-04-04T01:25:36.762289Z",
     "start_time": "2022-04-04T00:58:48.543943Z"
    }
   },
   "outputs": [],
   "source": [
    "# To load a fitted model set `XG_f1_grid_flag` to 1.\n",
    "# If the model needs to be refitted, set `XG_f1_grid_flag` to 0.\n",
    "\n",
    "XG_f1_grid_flag = 1\n",
    "\n",
    "# Load a fitted model.\n",
    "if XG_f1_grid_flag == 1:\n",
    "    XG_f1_grid = joblib.load(\"XG_f1_grid.pkl\")\n",
    "    \n",
    "# Refitting the model\n",
    "else:\n",
    "    # Setting the Random Forest Pipeline\n",
    "    XG_pipeline = ILPipeline(steps = [['smote', SMOTENC(random_state=1, categorical_features=cat_cols_index)],\n",
    "                                ['col_transform', cat_process],\n",
    "                                ['scaler', num_process],\n",
    "                                ['model', XGBClassifier(n_estimators = 100)]])\n",
    "    \n",
    "    # Setting the parameters for the Random Forest Pipeline\n",
    "    depths = list(range(1, 20, 2))\n",
    "    weights = list(range(10, 50, 5))\n",
    "\n",
    "    param_grid = [{\n",
    "            'model': [XGBClassifier()],\n",
    "            'model__max_depth': depths,\n",
    "            'model__min_child_weight': weights,\n",
    "    }]\n",
    "\n",
    "    XG_f1_grid = RandomizedSearchCV(XG_pipeline, param_grid, n_iter=20, cv=3, scoring='f1', n_jobs = -1, random_state=1)\n",
    "\n",
    "    # Fit grid onto training set\n",
    "    XG_f1_grid.fit(X_train, y_train) \n",
    "    \n",
    "    # Save the fitted logistic regression model as a .pkl file for later access. \n",
    "    joblib.dump(XG_f1_grid, \"XG_f1_grid.pkl\")"
   ]
  },
  {
   "cell_type": "code",
   "execution_count": 413,
   "id": "6e2ff508",
   "metadata": {
    "ExecuteTime": {
     "end_time": "2022-04-04T01:25:39.638039Z",
     "start_time": "2022-04-04T01:25:39.612255Z"
    }
   },
   "outputs": [
    {
     "data": {
      "text/plain": [
       "{'model__min_child_weight': 20,\n",
       " 'model__max_depth': 1,\n",
       " 'model': XGBClassifier(base_score=None, booster=None, colsample_bylevel=None,\n",
       "               colsample_bynode=None, colsample_bytree=None, gamma=None,\n",
       "               gpu_id=None, importance_type='gain', interaction_constraints=None,\n",
       "               learning_rate=None, max_delta_step=None, max_depth=1,\n",
       "               min_child_weight=20, missing=nan, monotone_constraints=None,\n",
       "               n_estimators=100, n_jobs=None, num_parallel_tree=None,\n",
       "               random_state=None, reg_alpha=None, reg_lambda=None,\n",
       "               scale_pos_weight=None, subsample=None, tree_method=None,\n",
       "               validate_parameters=None, verbosity=None)}"
      ]
     },
     "execution_count": 413,
     "metadata": {},
     "output_type": "execute_result"
    }
   ],
   "source": [
    "XG_f1_grid.best_params_"
   ]
  },
  {
   "cell_type": "markdown",
   "id": "294f8e7a",
   "metadata": {},
   "source": [
    "From the randomized search, the optimal model has a  and a minimum child weight of 20. Next we can a grid search to fine tune the max depth in this model. The max depth of 1 will be maintained since it is already at the lower limit.\n",
    "\n",
    "**Note: Fitting the fine tuned XGBoost Pipeline takes a long run time. To save time, the fitted model was pickled and loaded. If the model needs to be refitted to a new dataset, set the `XG_f1_best_grid_flag` to 0.**"
   ]
  },
  {
   "cell_type": "code",
   "execution_count": 414,
   "id": "92415265",
   "metadata": {
    "ExecuteTime": {
     "end_time": "2022-04-04T01:37:41.937482Z",
     "start_time": "2022-04-04T01:28:08.536236Z"
    }
   },
   "outputs": [],
   "source": [
    "# To load a fitted model set `XG_f1_best_grid_flag` to 1.\n",
    "# If the model needs to be refitted, set `XG_f1_best_grid_flag` to 0.\n",
    "\n",
    "XG_f1_best_grid_flag = 1\n",
    "\n",
    "# Load a fitted model.\n",
    "if XG_f1_best_grid_flag == 1:\n",
    "    XG_f1_best_grid = joblib.load(\"XG_f1_best_grid.pkl\")\n",
    "    \n",
    "# Refitting the model\n",
    "else:\n",
    "    # Setting the Random Forest Pipeline\n",
    "    XG_pipeline = ILPipeline(steps = [['smote', SMOTENC(random_state=1, categorical_features=cat_cols_index)],\n",
    "                                ['col_transform', cat_process],\n",
    "                                ['scaler', num_process],\n",
    "                                ['model', XGBClassifier(n_estimators = 100)]])\n",
    "    \n",
    "    # Setting the parameters for the Random Forest Pipeline\n",
    "    depths = list(range(1, 5, 1))\n",
    "    weights = list(range(15, 25, 2))\n",
    "\n",
    "\n",
    "    param_grid = [{\n",
    "            'model': [XGBClassifier()],\n",
    "            'model__max_depth': depths,\n",
    "            'model__min_child_weight': weights,\n",
    "    }]\n",
    "\n",
    "    XG_f1_best_grid = GridSearchCV(XG_pipeline, param_grid, cv=3, scoring='f1', n_jobs = -1)\n",
    "\n",
    "    # Fit grid onto training set\n",
    "    XG_f1_best_grid.fit(X_train, y_train) \n",
    "    \n",
    "    # Save the fitted logistic regression model as a .pkl file for later access. \n",
    "    joblib.dump(XG_f1_best_grid, \"XG_f1_best_grid.pkl\")"
   ]
  },
  {
   "cell_type": "code",
   "execution_count": 415,
   "id": "263f33f3",
   "metadata": {
    "ExecuteTime": {
     "end_time": "2022-04-04T01:37:44.527309Z",
     "start_time": "2022-04-04T01:37:44.500280Z"
    },
    "scrolled": false
   },
   "outputs": [
    {
     "data": {
      "text/plain": [
       "{'model': XGBClassifier(base_score=None, booster=None, colsample_bylevel=None,\n",
       "               colsample_bynode=None, colsample_bytree=None, gamma=None,\n",
       "               gpu_id=None, importance_type='gain', interaction_constraints=None,\n",
       "               learning_rate=None, max_delta_step=None, max_depth=1,\n",
       "               min_child_weight=15, missing=nan, monotone_constraints=None,\n",
       "               n_estimators=100, n_jobs=None, num_parallel_tree=None,\n",
       "               random_state=None, reg_alpha=None, reg_lambda=None,\n",
       "               scale_pos_weight=None, subsample=None, tree_method=None,\n",
       "               validate_parameters=None, verbosity=None),\n",
       " 'model__max_depth': 1,\n",
       " 'model__min_child_weight': 15}"
      ]
     },
     "execution_count": 415,
     "metadata": {},
     "output_type": "execute_result"
    }
   ],
   "source": [
    "XG_f1_best_grid.best_params_"
   ]
  },
  {
   "cell_type": "markdown",
   "id": "bbb27c6a",
   "metadata": {},
   "source": [
    "From the grid search, the optimal model has a maximum depth of 1 with a minimum child weight of 15. Let's compare the train and test sets before evaluating the XGBoost model. "
   ]
  },
  {
   "cell_type": "code",
   "execution_count": 416,
   "id": "8764712a",
   "metadata": {
    "ExecuteTime": {
     "end_time": "2022-04-04T01:37:48.267313Z",
     "start_time": "2022-04-04T01:37:46.877493Z"
    },
    "scrolled": true
   },
   "outputs": [
    {
     "name": "stdout",
     "output_type": "stream",
     "text": [
      "Train set F1 score: 0.1729437666854572\n",
      "Test set F1 score: 0.17214264462107368\n"
     ]
    }
   ],
   "source": [
    "# Print F1 scores for the train and test set\n",
    "print(F\"Train set F1 score: {XG_f1_best_grid.score(X_train, y_train)}\") \n",
    "print(F\"Test set F1 score: {XG_f1_best_grid.score(X_test, y_test)}\") "
   ]
  },
  {
   "cell_type": "markdown",
   "id": "082a2cf6",
   "metadata": {},
   "source": [
    "The F1 scores are similar in the train and test sets. It doesn't look like the model is overfitting the training data. "
   ]
  },
  {
   "cell_type": "code",
   "execution_count": 281,
   "id": "a78d2417",
   "metadata": {
    "ExecuteTime": {
     "end_time": "2022-04-03T07:31:25.238968Z",
     "start_time": "2022-04-03T07:31:24.493446Z"
    }
   },
   "outputs": [
    {
     "name": "stdout",
     "output_type": "stream",
     "text": [
      "              precision    recall  f1-score   support\n",
      "\n",
      "           0       0.94      0.97      0.95     43657\n",
      "           1       0.20      0.11      0.14      3227\n",
      "\n",
      "    accuracy                           0.91     46884\n",
      "   macro avg       0.57      0.54      0.55     46884\n",
      "weighted avg       0.89      0.91      0.90     46884\n",
      "\n"
     ]
    }
   ],
   "source": [
    "# XGBoost classification report\n",
    "class_report(XG_f1_best_grid)"
   ]
  },
  {
   "cell_type": "code",
   "execution_count": 282,
   "id": "e2b78221",
   "metadata": {
    "ExecuteTime": {
     "end_time": "2022-04-03T07:31:28.776877Z",
     "start_time": "2022-04-03T07:31:27.715871Z"
    },
    "scrolled": false
   },
   "outputs": [
    {
     "data": {
      "text/html": [
       "<div>\n",
       "<style scoped>\n",
       "    .dataframe tbody tr th:only-of-type {\n",
       "        vertical-align: middle;\n",
       "    }\n",
       "\n",
       "    .dataframe tbody tr th {\n",
       "        vertical-align: top;\n",
       "    }\n",
       "\n",
       "    .dataframe thead th {\n",
       "        text-align: right;\n",
       "    }\n",
       "</style>\n",
       "<table border=\"1\" class=\"dataframe\">\n",
       "  <thead>\n",
       "    <tr style=\"text-align: right;\">\n",
       "      <th></th>\n",
       "      <th>Predicted 0</th>\n",
       "      <th>Predicted 1</th>\n",
       "      <th>Sum of Actuals</th>\n",
       "    </tr>\n",
       "  </thead>\n",
       "  <tbody>\n",
       "    <tr>\n",
       "      <th>Actual 0</th>\n",
       "      <td>42199</td>\n",
       "      <td>1458</td>\n",
       "      <td>43657</td>\n",
       "    </tr>\n",
       "    <tr>\n",
       "      <th>Actual 1</th>\n",
       "      <td>2870</td>\n",
       "      <td>357</td>\n",
       "      <td>3227</td>\n",
       "    </tr>\n",
       "    <tr>\n",
       "      <th>Sum of Predictions</th>\n",
       "      <td>45069</td>\n",
       "      <td>1815</td>\n",
       "      <td>46884</td>\n",
       "    </tr>\n",
       "  </tbody>\n",
       "</table>\n",
       "</div>"
      ],
      "text/plain": [
       "                    Predicted 0  Predicted 1  Sum of Actuals\n",
       "Actual 0                  42199         1458           43657\n",
       "Actual 1                   2870          357            3227\n",
       "Sum of Predictions        45069         1815           46884"
      ]
     },
     "execution_count": 282,
     "metadata": {},
     "output_type": "execute_result"
    }
   ],
   "source": [
    "# XGBoost confusion matrix\n",
    "confusion_matrix_generator(XG_f1_best_grid)"
   ]
  },
  {
   "cell_type": "code",
   "execution_count": 283,
   "id": "61e948d1",
   "metadata": {
    "ExecuteTime": {
     "end_time": "2022-04-03T07:31:31.916746Z",
     "start_time": "2022-04-03T07:31:31.059578Z"
    },
    "scrolled": true
   },
   "outputs": [
    {
     "data": {
      "image/png": "[encoded data removed]",
      "text/plain": [
       "<Figure size 432x288 with 1 Axes>"
      ]
     },
     "metadata": {
      "needs_background": "light"
     },
     "output_type": "display_data"
    },
    {
     "name": "stdout",
     "output_type": "stream",
     "text": [
      "Area under curve (AUC):0.6728939599217749\n"
     ]
    }
   ],
   "source": [
    "# XGBoost AUC score and ROC curve\n",
    "ROC_AUC_score(XG_f1_best_grid)"
   ]
  },
  {
   "cell_type": "markdown",
   "id": "3cfde086",
   "metadata": {},
   "source": [
    "The XGBoost is not optimizing the F1 score well. The F1, recall and precision are all less than 0.2. The model fails to predict the true positives, instead labeling the large fires as small. As a result the recall score is much lower compared to other models at 0.11. This time, the precision is small due to the model's weakness in predicting true positives rather than an excess of false positives. Finally, the AUC score is the highest out of all model types at 0.67. With a low recall and precision and an inability to classify the taret class, a model with high AUC may not be useful. \n",
    "\n",
    "We can take a look at the features to see how they impact the model's predictions."
   ]
  },
  {
   "cell_type": "code",
   "execution_count": 284,
   "id": "833f90f5",
   "metadata": {
    "ExecuteTime": {
     "end_time": "2022-04-03T07:39:09.052812Z",
     "start_time": "2022-04-03T07:31:34.153680Z"
    }
   },
   "outputs": [
    {
     "data": {
      "text/html": [
       "<div>\n",
       "<style scoped>\n",
       "    .dataframe tbody tr th:only-of-type {\n",
       "        vertical-align: middle;\n",
       "    }\n",
       "\n",
       "    .dataframe tbody tr th {\n",
       "        vertical-align: top;\n",
       "    }\n",
       "\n",
       "    .dataframe thead th {\n",
       "        text-align: right;\n",
       "    }\n",
       "</style>\n",
       "<table border=\"1\" class=\"dataframe\">\n",
       "  <thead>\n",
       "    <tr style=\"text-align: right;\">\n",
       "      <th></th>\n",
       "      <th>Variable</th>\n",
       "      <th>Importance (%)</th>\n",
       "      <th>Normalized Importance (%)</th>\n",
       "    </tr>\n",
       "  </thead>\n",
       "  <tbody>\n",
       "    <tr>\n",
       "      <th>0</th>\n",
       "      <td>Avg Vap Pres (kPa)</td>\n",
       "      <td>4.321478</td>\n",
       "      <td>14.466735</td>\n",
       "    </tr>\n",
       "    <tr>\n",
       "      <th>1</th>\n",
       "      <td>Dew Point (C)</td>\n",
       "      <td>3.821877</td>\n",
       "      <td>12.794255</td>\n",
       "    </tr>\n",
       "    <tr>\n",
       "      <th>2</th>\n",
       "      <td>FIRE_YEAR</td>\n",
       "      <td>3.614771</td>\n",
       "      <td>12.100940</td>\n",
       "    </tr>\n",
       "    <tr>\n",
       "      <th>3</th>\n",
       "      <td>Avg Wind Speed (m/s)</td>\n",
       "      <td>3.472461</td>\n",
       "      <td>11.624537</td>\n",
       "    </tr>\n",
       "    <tr>\n",
       "      <th>4</th>\n",
       "      <td>Sol Rad (W/sq.m)</td>\n",
       "      <td>3.020792</td>\n",
       "      <td>10.112514</td>\n",
       "    </tr>\n",
       "    <tr>\n",
       "      <th>5</th>\n",
       "      <td>Avg Soil Temp (C)</td>\n",
       "      <td>2.785456</td>\n",
       "      <td>9.324692</td>\n",
       "    </tr>\n",
       "    <tr>\n",
       "      <th>6</th>\n",
       "      <td>Avg Air Temp (C)</td>\n",
       "      <td>2.269796</td>\n",
       "      <td>7.598450</td>\n",
       "    </tr>\n",
       "    <tr>\n",
       "      <th>7</th>\n",
       "      <td>DISCOVERY_DOY</td>\n",
       "      <td>1.818800</td>\n",
       "      <td>6.088681</td>\n",
       "    </tr>\n",
       "    <tr>\n",
       "      <th>8</th>\n",
       "      <td>ETo (mm)</td>\n",
       "      <td>1.440782</td>\n",
       "      <td>4.823215</td>\n",
       "    </tr>\n",
       "    <tr>\n",
       "      <th>9</th>\n",
       "      <td>HmsLatitude</td>\n",
       "      <td>1.340106</td>\n",
       "      <td>4.486186</td>\n",
       "    </tr>\n",
       "    <tr>\n",
       "      <th>10</th>\n",
       "      <td>Elevation</td>\n",
       "      <td>1.226332</td>\n",
       "      <td>4.105315</td>\n",
       "    </tr>\n",
       "    <tr>\n",
       "      <th>11</th>\n",
       "      <td>NWCG_GENERAL_CAUSE</td>\n",
       "      <td>0.547839</td>\n",
       "      <td>1.833967</td>\n",
       "    </tr>\n",
       "    <tr>\n",
       "      <th>12</th>\n",
       "      <td>NWCG_CAUSE_CLASSIFICATION</td>\n",
       "      <td>0.523713</td>\n",
       "      <td>1.753201</td>\n",
       "    </tr>\n",
       "    <tr>\n",
       "      <th>13</th>\n",
       "      <td>HmsLongitude</td>\n",
       "      <td>0.498175</td>\n",
       "      <td>1.667708</td>\n",
       "    </tr>\n",
       "    <tr>\n",
       "      <th>14</th>\n",
       "      <td>Precip (mm)</td>\n",
       "      <td>0.445457</td>\n",
       "      <td>1.491229</td>\n",
       "    </tr>\n",
       "    <tr>\n",
       "      <th>15</th>\n",
       "      <td>CIMIS Region</td>\n",
       "      <td>0.410809</td>\n",
       "      <td>1.375240</td>\n",
       "    </tr>\n",
       "    <tr>\n",
       "      <th>16</th>\n",
       "      <td>Stn Id</td>\n",
       "      <td>-0.191655</td>\n",
       "      <td>-0.641590</td>\n",
       "    </tr>\n",
       "    <tr>\n",
       "      <th>17</th>\n",
       "      <td>Month</td>\n",
       "      <td>-1.495167</td>\n",
       "      <td>-5.005275</td>\n",
       "    </tr>\n",
       "  </tbody>\n",
       "</table>\n",
       "</div>"
      ],
      "text/plain": [
       "                     Variable  Importance (%)  Normalized Importance (%)\n",
       "0          Avg Vap Pres (kPa)        4.321478                  14.466735\n",
       "1               Dew Point (C)        3.821877                  12.794255\n",
       "2                   FIRE_YEAR        3.614771                  12.100940\n",
       "3        Avg Wind Speed (m/s)        3.472461                  11.624537\n",
       "4            Sol Rad (W/sq.m)        3.020792                  10.112514\n",
       "5           Avg Soil Temp (C)        2.785456                   9.324692\n",
       "6            Avg Air Temp (C)        2.269796                   7.598450\n",
       "7               DISCOVERY_DOY        1.818800                   6.088681\n",
       "8                    ETo (mm)        1.440782                   4.823215\n",
       "9                 HmsLatitude        1.340106                   4.486186\n",
       "10                  Elevation        1.226332                   4.105315\n",
       "11         NWCG_GENERAL_CAUSE        0.547839                   1.833967\n",
       "12  NWCG_CAUSE_CLASSIFICATION        0.523713                   1.753201\n",
       "13               HmsLongitude        0.498175                   1.667708\n",
       "14                Precip (mm)        0.445457                   1.491229\n",
       "15               CIMIS Region        0.410809                   1.375240\n",
       "16                     Stn Id       -0.191655                  -0.641590\n",
       "17                      Month       -1.495167                  -5.005275"
      ]
     },
     "execution_count": 284,
     "metadata": {},
     "output_type": "execute_result"
    }
   ],
   "source": [
    "# Calculate the average importance per feature\n",
    "result = permutation_importance(XG_f1_best_grid, X_test, y_test, n_repeats=100, random_state=0)\n",
    "importances = result.importances_mean\n",
    "\n",
    "# Normalize the importances\n",
    "normalized_importances = importances / importances.sum()\n",
    "\n",
    "\n",
    "# Put the variable names and their feature importances into a data frame\n",
    "xg_permute_importances_df = pd.DataFrame({'Variable': X_train.columns,\n",
    "                               'Importance (%)': (importances*100),\n",
    "                               'Normalized Importance (%)': (normalized_importances*100)})\n",
    "\n",
    "xg_permute_importances_df.sort_values(by='Normalized Importance (%)', ascending=False, inplace=True, ignore_index=True)\n",
    "\n",
    "xg_permute_importances_df"
   ]
  },
  {
   "cell_type": "code",
   "execution_count": 438,
   "id": "390bd743",
   "metadata": {
    "ExecuteTime": {
     "end_time": "2022-04-04T04:56:05.788216Z",
     "start_time": "2022-04-04T04:56:04.852356Z"
    },
    "scrolled": true
   },
   "outputs": [
    {
     "data": {
      "image/png": "[encoded data removed]",
      "text/plain": [
       "<Figure size 864x360 with 1 Axes>"
      ]
     },
     "metadata": {
      "needs_background": "light"
     },
     "output_type": "display_data"
    }
   ],
   "source": [
    "# Plot the Permutation Feature Importance\n",
    "fig, ax = plt.subplots(figsize=(12,5))\n",
    "\n",
    "hbars = ax.barh(xg_permute_importances_df['Variable'], xg_permute_importances_df['Normalized Importance (%)'], align='center')\n",
    "plt.title('XGBoost Feature Importance', fontsize=16)\n",
    "plt.ylabel('Feature')\n",
    "plt.xlabel('Normalized Importance (%)')\n",
    "ax.bar_label(hbars, fmt='%.2f') # Label with specially formatted floats\n",
    "\n",
    "plt.gca().invert_yaxis()\n",
    "sns.despine()\n",
    "plt.tight_layout()\n",
    "plt.show()\n"
   ]
  },
  {
   "cell_type": "markdown",
   "id": "633ff947",
   "metadata": {},
   "source": [
    "We see that the top features in the XGBoost model are weather related, something that we haven't seen in previous models. Previous models had geographic features as their most important features. This included the `longitude`, `latitude` and the `CIMIS Region`. The causes of large fires were also more important in previous models. In the XGBoost mode, the `NWCG_GENERAL CAUSE` and the `NWCG_CAUSE_CLASSIFICATION` are out of the top 10 most important features. \n",
    "\n",
    "In general, as the XGBoost model is poor at predicting the positive target class, this feature importance graph is not particularly reliable. \n",
    "\n",
    "The metric scores for the XGboost model will be added to the scores dataframe."
   ]
  },
  {
   "cell_type": "code",
   "execution_count": 296,
   "id": "31dfc046",
   "metadata": {
    "ExecuteTime": {
     "end_time": "2022-04-03T07:49:25.084489Z",
     "start_time": "2022-04-03T07:49:24.456888Z"
    }
   },
   "outputs": [],
   "source": [
    "# Let's gather all the probabilties from our test set. \n",
    "probabilities = XG_f1_best_grid.predict_proba(X_test)\n",
    "# note rounded probabilities\n",
    "prob_df = pd.DataFrame(np.round(probabilities,4), columns=['probability of being class 0', 'probability of being class 1'])\n",
    "y_proba = probabilities[:, 1]\n",
    "\n",
    "# Calculate the predicted target classification\n",
    "y_pred = np.where(y_proba > 0.5, 1, 0)"
   ]
  },
  {
   "cell_type": "code",
   "execution_count": 297,
   "id": "37a724e8",
   "metadata": {
    "ExecuteTime": {
     "end_time": "2022-04-03T07:49:28.549059Z",
     "start_time": "2022-04-03T07:49:28.378892Z"
    }
   },
   "outputs": [
    {
     "data": {
      "text/html": [
       "<div>\n",
       "<style scoped>\n",
       "    .dataframe tbody tr th:only-of-type {\n",
       "        vertical-align: middle;\n",
       "    }\n",
       "\n",
       "    .dataframe tbody tr th {\n",
       "        vertical-align: top;\n",
       "    }\n",
       "\n",
       "    .dataframe thead th {\n",
       "        text-align: right;\n",
       "    }\n",
       "</style>\n",
       "<table border=\"1\" class=\"dataframe\">\n",
       "  <thead>\n",
       "    <tr style=\"text-align: right;\">\n",
       "      <th></th>\n",
       "      <th>Classification Model</th>\n",
       "      <th>F1 Score</th>\n",
       "      <th>Recall</th>\n",
       "      <th>Precision</th>\n",
       "      <th>AUC Score</th>\n",
       "    </tr>\n",
       "  </thead>\n",
       "  <tbody>\n",
       "    <tr>\n",
       "      <th>0</th>\n",
       "      <td>Logistic Regression</td>\n",
       "      <td>0.15438</td>\n",
       "      <td>0.55438</td>\n",
       "      <td>0.08967</td>\n",
       "      <td>0.56920</td>\n",
       "    </tr>\n",
       "    <tr>\n",
       "      <th>1</th>\n",
       "      <td>Logistic Regression &amp; PCA</td>\n",
       "      <td>0.14281</td>\n",
       "      <td>0.65603</td>\n",
       "      <td>0.08013</td>\n",
       "      <td>0.54966</td>\n",
       "    </tr>\n",
       "    <tr>\n",
       "      <th>2</th>\n",
       "      <td>Decision Trees</td>\n",
       "      <td>0.16381</td>\n",
       "      <td>0.59777</td>\n",
       "      <td>0.09491</td>\n",
       "      <td>0.58821</td>\n",
       "    </tr>\n",
       "    <tr>\n",
       "      <th>3</th>\n",
       "      <td>Random Forest</td>\n",
       "      <td>0.18489</td>\n",
       "      <td>0.56430</td>\n",
       "      <td>0.11056</td>\n",
       "      <td>0.61437</td>\n",
       "    </tr>\n",
       "    <tr>\n",
       "      <th>4</th>\n",
       "      <td>XGBoost</td>\n",
       "      <td>0.14161</td>\n",
       "      <td>0.11063</td>\n",
       "      <td>0.19669</td>\n",
       "      <td>0.53862</td>\n",
       "    </tr>\n",
       "  </tbody>\n",
       "</table>\n",
       "</div>"
      ],
      "text/plain": [
       "        Classification Model  F1 Score  Recall   Precision  AUC Score\n",
       "0        Logistic Regression   0.15438  0.55438    0.08967    0.56920\n",
       "1  Logistic Regression & PCA   0.14281  0.65603    0.08013    0.54966\n",
       "2             Decision Trees   0.16381  0.59777    0.09491    0.58821\n",
       "3              Random Forest   0.18489  0.56430    0.11056    0.61437\n",
       "4                    XGBoost   0.14161  0.11063    0.19669    0.53862"
      ]
     },
     "execution_count": 297,
     "metadata": {},
     "output_type": "execute_result"
    }
   ],
   "source": [
    "# data frame to track the model's scores\n",
    "df_scores = df_scores.append({\n",
    "                        \"Classification Model\": \"XGBoost\",\n",
    "                        \"F1 Score\": round(f1_score(y_test, y_pred), 5),\n",
    "                        \"Recall \": round(recall_score(y_test, y_pred),5),\n",
    "                        \"Precision\": round(precision_score(y_test, y_pred),5),\n",
    "                        \"AUC Score\": round(roc_auc_score(y_test, y_pred),5)},\n",
    "                        ignore_index = True)\n",
    "                                        \n",
    "df_scores"
   ]
  },
  {
   "cell_type": "markdown",
   "id": "be5a0512",
   "metadata": {},
   "source": [
    "_____\n",
    "# Summary \n",
    "Overall the machine learning models had difficulty classifying large fires. In a situation where both recall and precision are important, the F1 score never reached a value higher than 0.2. This is partly due to the low precision score. A large number of false positives were present in most models. In regards to recall, the positive class was incorrectly predicted to be in the negative class about 40% of the time. \n",
    "\n",
    "## Summary of the best model\n",
    "**Model with highest F1 score:** <br>\n",
    "The random forest model had the highest F1 score at 0.18. Meaning the precision and recall score, in combination, were the best out of all the models. The AUC score is also the best out of all the models, indicating that the model is able to distinguish the positive class from the negative classes at a higher rate. In other words, the random forest model detects true positives and true negatives more than false negatives and false positives.\n",
    "\n",
    "## Summary of Findings\n",
    "Out of the 5 machine learning models, the random forest model was deemed as the best. The AUC score indicates that it was the best at classifying the positive and negative classes correctly. Here is a summary of some of the findings from the random forest model:\n",
    "- **Cause of Fire:** The `Cause Classification` and the `General Cause` were the two strongest predictors within this model. Based on the permutation feature calculation, these two features make up more than 50% of the predictive power in this model. Looking at the distribution of the causes for large fires, we see that most fires are started by humans. Specifically, the fires are started by equipment and vehicle use, arson or open burning. Natural causes make up less than 20% of the large fires. Natural causes may be difficult to prevent, but reducing human caused fires should be a first step in preventing wildfires. \n",
    "- **Date:** The year is the third strongest predictor for large fires. The initial time series model revealed that there may be a multi-year pattern where large fires are more prevalent every few years. A longer time frame is also needed to confirm whether the fires are getting larger or more prevalent over time. The `Discover day of the year (DOY)` is a moderate predictor for large first. This can also be seen in the time series model, where large fires seem to occur more often in the summer. Although large fires  occur in the winter months, they are less common. What is interesting, is that the random forest model considers `Month` as a weak predictor. \n",
    "- **Location:** The `CIMIS Region`, `Longitude`, `Latitude` and `Elevation` are all moderate predictors for large fires using the random trees model. In actuality, the `coordinates` and the `elevation` are properties of the `CIMIS Region`. From the correlation coefficient plot, we see some moderate correlation between these four features. When multi-collinear features are present, the permutation feature calculator divides the normalized importance among the features. The location could potentially be more important than the numbers indicate.\n",
    "- **Weather:** The `Avg Air Temp (C)` is the strongest predictor out of all the weather features. The `Avg Air Temp (C)` contributes about 5% of the model's predictive power. The other features are weak predictors, with normalized importance values less than 3% each. Precipitation does not have any predictive power in this model. As seen in its feature distribution, the precipitation in California is limited, meaning the variance is small. \n"
   ]
  },
  {
   "cell_type": "code",
   "execution_count": 443,
   "id": "7b6d0448",
   "metadata": {
    "ExecuteTime": {
     "end_time": "2022-04-04T05:33:28.789705Z",
     "start_time": "2022-04-04T05:33:25.715222Z"
    },
    "scrolled": true
   },
   "outputs": [
    {
     "data": {
      "image/png": "[encoded data removed]",
      "text/plain": [
       "<Figure size 864x360 with 1 Axes>"
      ]
     },
     "metadata": {
      "needs_background": "light"
     },
     "output_type": "display_data"
    }
   ],
   "source": [
    "# Plot the Permutation Feature Importance\n",
    "fig, ax = plt.subplots(figsize=(12,5))\n",
    "\n",
    "hbars = ax.barh(rf_permute_importances_df['Variable'], rf_permute_importances_df['Normalized Importance (%)'], align='center')\n",
    "plt.title('Random Forest Feature Importance', fontsize=16)\n",
    "plt.ylabel('Feature')\n",
    "plt.xlabel('Normalized Importance (%)')\n",
    "ax.bar_label(hbars, fmt='%.2f') # Label with specially formatted floats\n",
    "\n",
    "plt.gca().invert_yaxis()\n",
    "sns.despine()\n",
    "plt.tight_layout()\n",
    "\n",
    "plt.savefig('Random_forest_feature_importance.png', dpi=500)\n",
    "plt.show()"
   ]
  },
  {
   "cell_type": "code",
   "execution_count": null,
   "id": "5e323851",
   "metadata": {},
   "outputs": [],
   "source": []
  },
  {
   "cell_type": "code",
   "execution_count": 1,
   "id": "3f5d9ade",
   "metadata": {
    "ExecuteTime": {
     "end_time": "2022-04-05T18:30:51.753103Z",
     "start_time": "2022-04-05T18:30:50.906300Z"
    }
   },
   "outputs": [
    {
     "ename": "NameError",
     "evalue": "name 'rf_permute_importances_df' is not defined",
     "output_type": "error",
     "traceback": [
      "\u001b[1;31m---------------------------------------------------------------------------\u001b[0m",
      "\u001b[1;31mNameError\u001b[0m                                 Traceback (most recent call last)",
      "\u001b[1;32mC:\\Users\\JANZEN~1\\AppData\\Local\\Temp/ipykernel_14484/2428154942.py\u001b[0m in \u001b[0;36m<module>\u001b[1;34m\u001b[0m\n\u001b[1;32m----> 1\u001b[1;33m \u001b[0mrf_permute_importances_df\u001b[0m\u001b[1;33m\u001b[0m\u001b[1;33m\u001b[0m\u001b[0m\n\u001b[0m",
      "\u001b[1;31mNameError\u001b[0m: name 'rf_permute_importances_df' is not defined"
     ]
    }
   ],
   "source": [
    "rf_permute_importances_df"
   ]
  },
  {
   "cell_type": "markdown",
   "id": "f6549444",
   "metadata": {},
   "source": [
    "_____\n",
    "# Next Steps\n",
    "In general, most models do not have strong predictive power for larges fires. This may be due to a number of reasons: \n",
    "- Highly imbalanced data: Large wildfires are not common. Even with SMOTE-NC re-sampling, the model may have a bias towards the majority class. As more and more fire data becomes available, it will become more clear what is and is not a feature of a large wildfire.\n",
    "- Discovering relevant features: Previous wildfire prediction models have included features such as satellite imagery, vegetation density and other weather data. Some have even mapped the location of power lines. There is a plethora of data available that can be used to train machine learning models. New features and updated data can be continuously added to this model. \n",
    "- Refine the region: California is a large state. There are many different geographical regions with different weather patterns, vegetation densities, and climates. Instead of predicting forest fires within all of California, regional predictions can be made based on their landscape type. For example, wildfire patterns within forests will be different than grasslands. "
   ]
  },
  {
   "cell_type": "markdown",
   "id": "799d8146",
   "metadata": {},
   "source": [
    "_____\n",
    "# Conclusion\n",
    "State and federal governments have poured billions into preventing and fighting forest fires, but wildfire predictions are difficult. The ever changing climate and a multitude of other variables go into predicting the size of a wildfire. Here we have focused on using weather and climate features to build the machine learning model. Incorporating the abundance of geographic and satellite data will become necessary in building future models that predict forest fires in California and around the world. "
   ]
  },
  {
   "cell_type": "markdown",
   "id": "f41eabec",
   "metadata": {},
   "source": [
    "**Project:** Predicting California's Wildfire</br>\n",
    "**Current Notebook:** Capstone 2 - Modeling </br>\n",
    "**Previous Notebook:** Capstone 1 - Data Wrangling</br>"
   ]
  }
 ],
 "metadata": {
  "kernelspec": {
   "display_name": "boosting",
   "language": "python",
   "name": "boosting"
  },
  "language_info": {
   "codemirror_mode": {
    "name": "ipython",
    "version": 3
   },
   "file_extension": ".py",
   "mimetype": "text/x-python",
   "name": "python",
   "nbconvert_exporter": "python",
   "pygments_lexer": "ipython3",
   "version": "3.8.12"
  },
  "toc": {
   "base_numbering": 1,
   "nav_menu": {},
   "number_sections": true,
   "sideBar": true,
   "skip_h1_title": false,
   "title_cell": "Table of Contents",
   "title_sidebar": "Contents",
   "toc_cell": true,
   "toc_position": {
    "height": "calc(100% - 180px)",
    "left": "10px",
    "top": "150px",
    "width": "304.475px"
   },
   "toc_section_display": true,
   "toc_window_display": false
  },
  "varInspector": {
   "cols": {
    "lenName": 16,
    "lenType": 16,
    "lenVar": 40
   },
   "kernels_config": {
    "python": {
     "delete_cmd_postfix": "",
     "delete_cmd_prefix": "del ",
     "library": "var_list.py",
     "varRefreshCmd": "print(var_dic_list())"
    },
    "r": {
     "delete_cmd_postfix": ") ",
     "delete_cmd_prefix": "rm(",
     "library": "var_list.r",
     "varRefreshCmd": "cat(var_dic_list()) "
    }
   },
   "types_to_exclude": [
    "module",
    "function",
    "builtin_function_or_method",
    "instance",
    "_Feature"
   ],
   "window_display": false
  }
 },
 "nbformat": 4,
 "nbformat_minor": 5
}
